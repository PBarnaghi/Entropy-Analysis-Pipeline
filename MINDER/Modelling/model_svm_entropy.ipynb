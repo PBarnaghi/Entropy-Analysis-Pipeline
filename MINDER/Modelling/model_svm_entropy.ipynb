{
 "cells": [
  {
   "cell_type": "code",
   "execution_count": null,
   "metadata": {},
   "outputs": [],
   "source": [
    "from argparse import Namespace\n",
    "import numpy as np\n",
    "import pandas as pd\n",
    "import matplotlib.pyplot as plt\n",
    "import random\n",
    "import os\n",
    "import torch\n",
    "import torch.nn as nn\n",
    "import torch.nn.functional as F\n",
    "import torch.optim as optim\n",
    "import itertools\n",
    "from sklearn.metrics import classification_report, confusion_matrix, accuracy_score, f1_score, recall_score\n",
    "from sklearn.model_selection import train_test_split, cross_val_score\n",
    "from sklearn.svm import SVC\n",
    "from torch.utils.data import Dataset, DataLoader\n",
    "from sklearn.preprocessing import StandardScaler\n",
    "from sklearn.utils import shuffle\n",
    "import warnings\n",
    "\n",
    "warnings.filterwarnings('ignore')"
   ]
  },
  {
   "cell_type": "code",
   "execution_count": null,
   "metadata": {},
   "outputs": [],
   "source": [
    "DATA_DIR_BASELINE = os.path.join('dataset_entropy_measures_all_events.csv')\n",
    "dataset_entropy = pd.read_csv(DATA_DIR_BASELINE)\n",
    "dataset_entropy"
   ]
  },
  {
   "cell_type": "code",
   "execution_count": null,
   "metadata": {},
   "outputs": [],
   "source": [
    "# pre-processing dataset\n",
    "dataset_all_events = pd.DataFrame(dataset_entropy, columns=dataset_entropy.columns[1:])\n",
    "dataset_all_events_positive = dataset_all_events[(dataset_all_events.disturbed_sleep_pattern == 1) | (dataset_all_events.agitation_irritability_aggression == 1) | (dataset_all_events.depressed_anxiety == 1)| (dataset_all_events.accidental_fall == 1)| (dataset_all_events.motor_function_behavior == 1)| (dataset_all_events.period_of_confusion == 1)| (dataset_all_events.hospital == 1)| (dataset_all_events.uti == 1)]\n",
    "dataset_all_events_positive['label']=1\n",
    "dataset_all_events = pd.merge(dataset_all_events, dataset_all_events_positive, how='left')\n",
    "dataset_all_events.label = dataset_all_events.label.fillna(0.5)\n",
    "dataset_all_events = pd.DataFrame(dataset_all_events, columns=['patient_id','day_date','entropy_daytime','entropy_night','entropy_rate_mk_daytime','entropy_rate_mk_night','entropy_production_daytime', 'entropy_production_night','entropy_vn_frequency_daytime','entropy_vn_frequency_night','entropy_vn_duration_daytime','entropy_vn_duration_night','duration_difference_daytime','duration_difference_night','label'])\n",
    "dataset_all_events = dataset_all_events.dropna()\n",
    "dataset_all_events"
   ]
  },
  {
   "cell_type": "code",
   "execution_count": null,
   "metadata": {},
   "outputs": [],
   "source": [
    "dataset_all_events.label.value_counts().min()"
   ]
  },
  {
   "cell_type": "code",
   "execution_count": null,
   "metadata": {},
   "outputs": [],
   "source": [
    "train_recall_svm = []\n",
    "test_recall_svm= []\n",
    "train_f1_svm = []\n",
    "test_f1_svm = []\n",
    "\n",
    "for i in range(30):\n",
    "\n",
    "    # # balance negative and positive lables\n",
    "    dataset_num = dataset_all_events.label.value_counts().min()\n",
    "    dataset_symptoms_negative = dataset_all_events[dataset_all_events['label']==0.5].sample(dataset_num)\n",
    "    dataset_symptoms_positive = dataset_all_events[dataset_all_events['label']==1.0].sample(dataset_num)\n",
    "    dataset_symptoms = pd.concat([dataset_symptoms_negative, dataset_symptoms_positive])\n",
    "\n",
    "    dataset_symptoms = pd.DataFrame(dataset_symptoms, columns=['entropy_daytime','entropy_night','entropy_rate_mk_daytime','entropy_rate_mk_night','entropy_production_daytime', 'entropy_production_night','entropy_vn_frequency_daytime','entropy_vn_frequency_night','entropy_vn_duration_daytime','entropy_vn_duration_night','duration_difference_daytime','duration_difference_night','label'])\n",
    "    # optimise the format of the labels\n",
    "    mapping = {0.5:0, 1.0:1}\n",
    "    dataset_symptoms['label'] = dataset_symptoms['label'].map(mapping)\n",
    "\n",
    "    X = np.array(dataset_symptoms.iloc[:, :-1])\n",
    "    y = np.array(dataset_symptoms.iloc[:, -1])\n",
    "\n",
    "    X_train, X_test, y_train, y_test = train_test_split(X, y, test_size=0.3, random_state=1234)\n",
    "\n",
    "    # normalisation\n",
    "    X_scaler = StandardScaler().fit(X_train)\n",
    "    standardized_X_train = X_scaler.transform(X_train)\n",
    "    standardized_X_test = X_scaler.transform(X_test)\n",
    "\n",
    "    linear_svc = SVC(kernel='linear', max_iter=-1, C = 0.00001).fit(X_train, y_train)\n",
    "\n",
    "    training = linear_svc.predict(X_train)\n",
    "    testing=linear_svc.predict(X_test)\n",
    "\n",
    "    test_f1_svm.append(f1_score(testing,y_test))\n",
    "    test_recall_svm.append(recall_score(testing,y_test))\n",
    "\n",
    "    train_f1_svm.append(f1_score(training,y_train))\n",
    "    train_recall_svm.append(recall_score(training,y_train))\n",
    "\n",
    "test_recall_svm = pd.DataFrame(test_recall_svm, columns=['test_recall_svm'])\n",
    "test_f1_svm = pd.DataFrame(test_f1_svm, columns=['test_f1_svm'])\n",
    "\n",
    "train_recall_svm = pd.DataFrame(train_recall_svm, columns=['train_recall_svm'])\n",
    "train_f1_svm = pd.DataFrame(train_f1_svm, columns=['train_f1_svm'])\n",
    "\n",
    "svm_result = pd.concat([test_recall_svm, test_f1_svm, train_recall_svm, train_f1_svm],axis=1)\n",
    "svm_result.columns = ['recall_bs_ts', 'F1_bs_ts','recall_bs_tr','F1_bs_tr']\n",
    "svm_result.boxplot()\n",
    "plt.ylim(0,1) "
   ]
  },
  {
   "cell_type": "code",
   "execution_count": null,
   "metadata": {},
   "outputs": [],
   "source": [
    "# svm_result.to_csv('evaluation_entropy_SVM.csv')"
   ]
  }
 ],
 "metadata": {
  "kernelspec": {
   "display_name": "Python 3.9.12 ('base')",
   "language": "python",
   "name": "python3"
  },
  "language_info": {
   "codemirror_mode": {
    "name": "ipython",
    "version": 3
   },
   "file_extension": ".py",
   "mimetype": "text/x-python",
   "name": "python",
   "nbconvert_exporter": "python",
   "pygments_lexer": "ipython3",
   "version": "3.9.12 (main, Apr  5 2022, 06:56:58) \n[GCC 7.5.0]"
  },
  "orig_nbformat": 4,
  "vscode": {
   "interpreter": {
    "hash": "63db258f63f9026914af4dc973048ad77a8a8d707001bf6ff07195bd565e7307"
   }
  }
 },
 "nbformat": 4,
 "nbformat_minor": 2
}
