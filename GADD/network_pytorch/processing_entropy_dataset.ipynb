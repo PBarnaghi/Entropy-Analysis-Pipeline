{
 "cells": [
  {
   "cell_type": "code",
   "execution_count": 25,
   "metadata": {},
   "outputs": [],
   "source": [
    "import pandas as pd\n",
    "import os"
   ]
  },
  {
   "cell_type": "code",
   "execution_count": 26,
   "metadata": {},
   "outputs": [],
   "source": [
    "DATA_DIR_BASELINE = os.path.join('gait_baseline_dataset_timewindow_20.csv')\n",
    "gait_baseline_dataset = pd.read_csv(DATA_DIR_BASELINE, usecols=['gait_avg','gait_cv','gait_stdfd','label'])\n",
    "gait_baseline_dataset\n",
    "gait_baseline_dataset = gait_baseline_dataset[gait_baseline_dataset['label']!='young_general']\n",
    "mapping = {'old_general':0, 'old_parkinson':1}\n",
    "gait_baseline = gait_baseline_dataset\n",
    "gait_baseline['label'] = gait_baseline['label'].map(mapping)\n",
    "gait_baseline.to_csv('gait_baseline_dataset_timewindow_20.csv')"
   ]
  },
  {
   "cell_type": "code",
   "execution_count": 27,
   "metadata": {},
   "outputs": [
    {
     "data": {
      "text/plain": [
       "60"
      ]
     },
     "execution_count": 27,
     "metadata": {},
     "output_type": "execute_result"
    }
   ],
   "source": [
    "len(gait_baseline[gait_baseline['label']==1])"
   ]
  },
  {
   "cell_type": "code",
   "execution_count": 28,
   "metadata": {},
   "outputs": [],
   "source": [
    "DATA_DIR_BASELINE = os.path.join('gait_entropy_dataset_timewindow_20.csv')\n",
    "gait_entropy_dataset = pd.read_csv(DATA_DIR_BASELINE,usecols=['fuzzy_entropy','spectral_entropy','dispersion_entropy','slope_entropy','label'])\n",
    "gait_entropy_dataset = gait_entropy_dataset[gait_entropy_dataset['label']!='young_general']\n",
    "mapping = {'old_general':0, 'old_parkinson':1}\n",
    "gait_entropy = gait_entropy_dataset\n",
    "gait_entropy['label'] = gait_entropy['label'].map(mapping)\n",
    "gait_entropy.to_csv('gait_entropy_dataset_timewindow_20.csv')"
   ]
  },
  {
   "cell_type": "code",
   "execution_count": 29,
   "metadata": {},
   "outputs": [
    {
     "data": {
      "text/html": [
       "<div>\n",
       "<style scoped>\n",
       "    .dataframe tbody tr th:only-of-type {\n",
       "        vertical-align: middle;\n",
       "    }\n",
       "\n",
       "    .dataframe tbody tr th {\n",
       "        vertical-align: top;\n",
       "    }\n",
       "\n",
       "    .dataframe thead th {\n",
       "        text-align: right;\n",
       "    }\n",
       "</style>\n",
       "<table border=\"1\" class=\"dataframe\">\n",
       "  <thead>\n",
       "    <tr style=\"text-align: right;\">\n",
       "      <th></th>\n",
       "      <th>Unnamed: 0</th>\n",
       "      <th>fuzzy_entropy</th>\n",
       "      <th>spectral_entropy</th>\n",
       "      <th>dispersion_entropy</th>\n",
       "      <th>slope_entropy</th>\n",
       "      <th>label</th>\n",
       "    </tr>\n",
       "  </thead>\n",
       "  <tbody>\n",
       "    <tr>\n",
       "      <th>0</th>\n",
       "      <td>0</td>\n",
       "      <td>0.002216</td>\n",
       "      <td>0.306904</td>\n",
       "      <td>2.059229</td>\n",
       "      <td>-0.000000</td>\n",
       "      <td>0</td>\n",
       "    </tr>\n",
       "    <tr>\n",
       "      <th>1</th>\n",
       "      <td>1</td>\n",
       "      <td>0.000934</td>\n",
       "      <td>0.305605</td>\n",
       "      <td>1.822457</td>\n",
       "      <td>-0.000000</td>\n",
       "      <td>0</td>\n",
       "    </tr>\n",
       "    <tr>\n",
       "      <th>2</th>\n",
       "      <td>2</td>\n",
       "      <td>0.001897</td>\n",
       "      <td>0.305357</td>\n",
       "      <td>2.114308</td>\n",
       "      <td>-0.000000</td>\n",
       "      <td>0</td>\n",
       "    </tr>\n",
       "    <tr>\n",
       "      <th>3</th>\n",
       "      <td>3</td>\n",
       "      <td>0.008119</td>\n",
       "      <td>0.307437</td>\n",
       "      <td>1.864237</td>\n",
       "      <td>0.297472</td>\n",
       "      <td>0</td>\n",
       "    </tr>\n",
       "    <tr>\n",
       "      <th>4</th>\n",
       "      <td>4</td>\n",
       "      <td>0.000611</td>\n",
       "      <td>0.305790</td>\n",
       "      <td>1.867880</td>\n",
       "      <td>-0.000000</td>\n",
       "      <td>0</td>\n",
       "    </tr>\n",
       "    <tr>\n",
       "      <th>...</th>\n",
       "      <td>...</td>\n",
       "      <td>...</td>\n",
       "      <td>...</td>\n",
       "      <td>...</td>\n",
       "      <td>...</td>\n",
       "      <td>...</td>\n",
       "    </tr>\n",
       "    <tr>\n",
       "      <th>238</th>\n",
       "      <td>238</td>\n",
       "      <td>0.014112</td>\n",
       "      <td>0.309014</td>\n",
       "      <td>2.132192</td>\n",
       "      <td>0.774243</td>\n",
       "      <td>1</td>\n",
       "    </tr>\n",
       "    <tr>\n",
       "      <th>239</th>\n",
       "      <td>239</td>\n",
       "      <td>0.006096</td>\n",
       "      <td>0.305294</td>\n",
       "      <td>2.114308</td>\n",
       "      <td>-0.000000</td>\n",
       "      <td>1</td>\n",
       "    </tr>\n",
       "    <tr>\n",
       "      <th>240</th>\n",
       "      <td>240</td>\n",
       "      <td>0.004368</td>\n",
       "      <td>0.305951</td>\n",
       "      <td>1.986267</td>\n",
       "      <td>-0.000000</td>\n",
       "      <td>1</td>\n",
       "    </tr>\n",
       "    <tr>\n",
       "      <th>241</th>\n",
       "      <td>241</td>\n",
       "      <td>0.022088</td>\n",
       "      <td>0.306188</td>\n",
       "      <td>2.159732</td>\n",
       "      <td>0.953014</td>\n",
       "      <td>1</td>\n",
       "    </tr>\n",
       "    <tr>\n",
       "      <th>242</th>\n",
       "      <td>242</td>\n",
       "      <td>0.015037</td>\n",
       "      <td>0.306811</td>\n",
       "      <td>2.159732</td>\n",
       "      <td>0.774243</td>\n",
       "      <td>1</td>\n",
       "    </tr>\n",
       "  </tbody>\n",
       "</table>\n",
       "<p>243 rows × 6 columns</p>\n",
       "</div>"
      ],
      "text/plain": [
       "     Unnamed: 0  fuzzy_entropy  spectral_entropy  dispersion_entropy  \\\n",
       "0             0       0.002216          0.306904            2.059229   \n",
       "1             1       0.000934          0.305605            1.822457   \n",
       "2             2       0.001897          0.305357            2.114308   \n",
       "3             3       0.008119          0.307437            1.864237   \n",
       "4             4       0.000611          0.305790            1.867880   \n",
       "..          ...            ...               ...                 ...   \n",
       "238         238       0.014112          0.309014            2.132192   \n",
       "239         239       0.006096          0.305294            2.114308   \n",
       "240         240       0.004368          0.305951            1.986267   \n",
       "241         241       0.022088          0.306188            2.159732   \n",
       "242         242       0.015037          0.306811            2.159732   \n",
       "\n",
       "     slope_entropy  label  \n",
       "0        -0.000000      0  \n",
       "1        -0.000000      0  \n",
       "2        -0.000000      0  \n",
       "3         0.297472      0  \n",
       "4        -0.000000      0  \n",
       "..             ...    ...  \n",
       "238       0.774243      1  \n",
       "239      -0.000000      1  \n",
       "240      -0.000000      1  \n",
       "241       0.953014      1  \n",
       "242       0.774243      1  \n",
       "\n",
       "[243 rows x 6 columns]"
      ]
     },
     "execution_count": 29,
     "metadata": {},
     "output_type": "execute_result"
    }
   ],
   "source": [
    "gait_entropy_dataset = pd.read_csv(DATA_DIR_BASELINE)\n",
    "gait_entropy_dataset\n"
   ]
  }
 ],
 "metadata": {
  "kernelspec": {
   "display_name": "Python 3.9.12 ('base')",
   "language": "python",
   "name": "python3"
  },
  "language_info": {
   "codemirror_mode": {
    "name": "ipython",
    "version": 3
   },
   "file_extension": ".py",
   "mimetype": "text/x-python",
   "name": "python",
   "nbconvert_exporter": "python",
   "pygments_lexer": "ipython3",
   "version": "3.9.12"
  },
  "orig_nbformat": 4,
  "vscode": {
   "interpreter": {
    "hash": "63db258f63f9026914af4dc973048ad77a8a8d707001bf6ff07195bd565e7307"
   }
  }
 },
 "nbformat": 4,
 "nbformat_minor": 2
}
