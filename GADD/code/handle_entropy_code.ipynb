{
 "cells": [
  {
   "cell_type": "code",
   "execution_count": 1,
   "metadata": {},
   "outputs": [],
   "source": [
    "import numpy as np"
   ]
  },
  {
   "cell_type": "code",
   "execution_count": 2,
   "metadata": {},
   "outputs": [],
   "source": [
    "# fuzzy entropy\n",
    "def Fuzzy_Entropy(x, m, r=0.2, n=2):\n",
    "    x = np.array(x)\n",
    "    if x.ndim != 1:\n",
    "        raise ValueError('dimension error')\n",
    "    if len(x) < m+1:\n",
    "        raise ValueError('len too small')\n",
    "    \n",
    "    entropy = 0\n",
    "    for temp in range(2):\n",
    "        X = []\n",
    "        for i in range(len(x)-m+1-temp):\n",
    "            X.append(x[i:i+m+temp])\n",
    "        X = np.array(X)\n",
    "        D_value = []\n",
    "    # calculate distance\n",
    "        for index1, i in enumerate(X):\n",
    "            sub = []\n",
    "            for index2, j in enumerate(X):\n",
    "                if index1 != index2:\n",
    "                    sub.append(max(np.abs(1-j)))\n",
    "            D_value.append(sub)\n",
    "    \n",
    "        D = np.exp(-np.power(D_value, n) / r)\n",
    "        Lm = np.average(D.ravel())\n",
    "        entropy = abs(entropy) - Lm\n",
    "    return entropy"
   ]
  },
  {
   "cell_type": "code",
   "execution_count": 3,
   "metadata": {},
   "outputs": [],
   "source": [
    "import itertools as it\n",
    "import scipy.stats\n",
    "def pec(x, m, t):\n",
    "    x_len = len(x)\n",
    "    serial = np.arange(0, D)\n",
    "    x_perm = list(it.permutations(serial, D))\n",
    "    count = np.zeros(len(x_perm))\n",
    "\n",
    "    for i in range(x_len-(m-1)*t):\n",
    "        y_x = np.argsort(x[i:i+t*x:t])\n",
    "\n",
    "        for j in range(len(x_perm)):\n",
    "            if tuple(y_x) == x_perm[j]:\n",
    "                count[j] += 1\n",
    "\n",
    "    pe = scipy.stats.entropy(count / (x_len-(m-1)*t), base=2)\n",
    "    return pe"
   ]
  },
  {
   "cell_type": "code",
   "execution_count": null,
   "metadata": {},
   "outputs": [],
   "source": []
  }
 ],
 "metadata": {
  "kernelspec": {
   "display_name": "Python 3.9.12 ('base')",
   "language": "python",
   "name": "python3"
  },
  "language_info": {
   "codemirror_mode": {
    "name": "ipython",
    "version": 3
   },
   "file_extension": ".py",
   "mimetype": "text/x-python",
   "name": "python",
   "nbconvert_exporter": "python",
   "pygments_lexer": "ipython3",
   "version": "3.9.12"
  },
  "orig_nbformat": 4,
  "vscode": {
   "interpreter": {
    "hash": "63db258f63f9026914af4dc973048ad77a8a8d707001bf6ff07195bd565e7307"
   }
  }
 },
 "nbformat": 4,
 "nbformat_minor": 2
}
