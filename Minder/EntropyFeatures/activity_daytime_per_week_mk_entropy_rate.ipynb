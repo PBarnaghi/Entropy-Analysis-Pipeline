{
 "cells": [
  {
   "cell_type": "code",
   "execution_count": null,
   "metadata": {},
   "outputs": [],
   "source": [
    "import numpy as np\n",
    "import pandas as pd\n",
    "import dcarte\n",
    "import os\n",
    "import math\n",
    "import seaborn as sns\n",
    "import warnings\n",
    "from numpy import log2\n",
    "warnings.filterwarnings('ignore')\n",
    "dcarte.domains()"
   ]
  },
  {
   "cell_type": "code",
   "execution_count": null,
   "metadata": {},
   "outputs": [],
   "source": [
    "time = 0  # daytime:0 (6:00-18:00), night:1 (18:00-6:00)\n",
    "timestep = 0  # per day: 0, per week: 1\n",
    "activity_raw = dcarte.load('Activity','RAW')\n",
    "activity_legacy = dcarte.load('Motion','LEGACY')"
   ]
  },
  {
   "cell_type": "code",
   "execution_count": null,
   "metadata": {},
   "outputs": [],
   "source": [
    "def pre_process_raw(activity_raw):\n",
    "    \n",
    "    # delete\n",
    "    activity = activity_raw\n",
    "    \n",
    "    # revise location names\n",
    "    activity = activity.copy()\n",
    "    mapping = {\n",
    "    'conservatory':'conservatory',\n",
    "    'WC1':'wc',\n",
    "    'corridor1':'corridor',\n",
    "    'living room':'living',\n",
    "    'study':'study',\n",
    "    'dining room':'dining',\n",
    "    'bathroom1':'bathroom',\n",
    "    'bedroom1':'bedroom',\n",
    "    'hallway':'hallway',\n",
    "    'lounge':'lounge',\n",
    "    'kitchen':'kitchen',\n",
    "    'cellar':'cellar',\n",
    "    'office':'office'\n",
    "    }\n",
    "    activity.location_name = activity.location_name.map(mapping)\n",
    "    activity = activity[~activity['location_name'].isin(['cellar','office','dining','study','living','corridor','wc','conservatory'])]\n",
    "    activity.location_name = activity.location_name.values.astype('str')\n",
    "    activity.patient_id = activity.patient_id.values.astype('str')\n",
    "    \n",
    "    # delete rebundant columns\n",
    "    activity.drop(['home_id','location_id','source'],axis=1, inplace=True)\n",
    "    \n",
    "    return activity"
   ]
  },
  {
   "cell_type": "code",
   "execution_count": null,
   "metadata": {},
   "outputs": [],
   "source": [
    "def pre_process_legacy(activity_raw):\n",
    "    \n",
    "    # delete\n",
    "    activity = activity_raw\n",
    "    \n",
    "    # revise location names\n",
    "    activity = activity.copy()\n",
    "    mapping = {\n",
    "    'Hallway':'hallway',\n",
    "    'Kitchen':'kitchen',\n",
    "    'Study':'study',\n",
    "    'Bathroom':'bathroom',\n",
    "    'Lounge':'lounge',\n",
    "    'Bedroom':'bedroom',\n",
    "    'Living Room':'living',\n",
    "    'Front Door':'door',\n",
    "    'D':'d',\n",
    "    'Dining Room':'dining',\n",
    "    }\n",
    "    activity.location_name = activity.location_name.map(mapping)\n",
    "    activity = activity[~activity['location_name'].isin(['study','living','door','d','dining'])]\n",
    "    activity.location_name = activity.location_name.values.astype('str')\n",
    "    activity.patient_id = activity.patient_id.values.astype('str')\n",
    "    \n",
    "    # delete rebundant columns\n",
    "    activity.drop(['index','timezone'],axis=1, inplace=True)\n",
    "    activity = activity[['start_date','patient_id','location_name']]\n",
    "    \n",
    "    return activity"
   ]
  },
  {
   "cell_type": "code",
   "execution_count": null,
   "metadata": {},
   "outputs": [],
   "source": [
    "def select_daytime_night(my_activity,my_time):\n",
    "    \n",
    "    # daytime:0 (6:00-18:00), night:1 (18:00-6:00)\n",
    "    signal = my_time\n",
    "    \n",
    "    if signal==0:\n",
    "        print(\"Time: daytime\")\n",
    "        activity_day = my_activity\n",
    "        activity_day['hour'] = activity_day.start_date.dt.hour\n",
    "        # choose daytime, between [6:00-18:00]\n",
    "        activity_day = activity_day[activity_day['hour'].between(6,17)]\n",
    "        activity_day = activity_day.copy()\n",
    "        activity_day.drop(['hour'],axis=1, inplace=True)\n",
    "        activity_day['day_date'] =  activity_day.start_date.values.astype(\"datetime64[D]\")\n",
    "        activity_select = activity_day\n",
    "        \n",
    "    elif signal==1:\n",
    "        print(\"Time: night\")\n",
    "        activity_night = my_activity\n",
    "        activity_night['hour'] = activity_night.start_date.dt.hour\n",
    "        # choose night time, except [6:00-18:00]. e.g., the night time on 22/3 includes 18:00-24:00 on 22/3 and 00:00-06:00 on 23/3\n",
    "        activity_night = activity_night[~activity_night['hour'].between(6,17)]\n",
    "        activity_night = activity_night.copy()\n",
    "        activity_night['day_date'] = activity_night.start_date.values.astype(\"datetime64[D]\")\n",
    "        activity_night['last_date'] = activity_night['start_date'] + pd.Timedelta(days=-1)\n",
    "        activity_night['day_date'] =  activity_night['day_date'].mask(activity_night['hour']<6, activity_night['last_date'])\n",
    "        activity_night['day_date'] = activity_night.day_date.values.astype(\"datetime64[D]\")\n",
    "        activity_night.drop(['hour','last_date'],axis=1, inplace=True)\n",
    "        activity_select = activity_night\n",
    "        \n",
    "    else:\n",
    "        raise ValueError(\"Error: please input correct number! daytime:0 (6:00-18:00), night:1 (18:00-6:00)\")\n",
    "        \n",
    "    return activity_select"
   ]
  },
  {
   "cell_type": "code",
   "execution_count": null,
   "metadata": {},
   "outputs": [],
   "source": [
    "def select_time_step(my_activity, my_timestep):\n",
    "    \n",
    "    activity = pd.DataFrame(my_activity)\n",
    "    # per day: 0, per week: 1, per hour: 2, accurate time: 3\n",
    "    signal = my_timestep\n",
    "    \n",
    "    if signal==0:\n",
    "        print(\"Timestep: per day\")\n",
    "        activity.day_date = activity.day_date.values.astype(\"datetime64[D]\")\n",
    "        activity = activity.groupby(['patient_id','day_date']).filter(lambda x:len(x)>2)\n",
    "        \n",
    "    elif signal==1:\n",
    "        print(\"Timestep: per week\")\n",
    "        activity['week'] = activity['day_date'].dt.to_period('W').apply(lambda r: r.start_time)\n",
    "        activity.drop(['day_date','start_date'],axis=1, inplace=True)\n",
    "        activity.columns=['patient_id','location_name','start_date']\n",
    "        activity = activity.groupby(['patient_id','start_date']).filter(lambda x:len(x)>2)\n",
    "        \n",
    "    elif signal==2:\n",
    "        print(\"Timestep: per hour\")\n",
    "        activity.start_date = activity.start_date.values.astype(\"datetime64[h]\")\n",
    "    \n",
    "    elif signal==3:\n",
    "        print(\"Accurate time\")\n",
    "        activity.start_date = activity.start_date.values.astype(\"datetime64[ns]\")\n",
    "        \n",
    "    else:\n",
    "        raise ValueError(\"Error: please input correct number! per day: 0, per week: 1\")\n",
    "    \n",
    "    return activity"
   ]
  },
  {
   "cell_type": "code",
   "execution_count": null,
   "metadata": {},
   "outputs": [],
   "source": [
    "def get_transition_matrix(my_activity):\n",
    "    activity = my_activity.copy()\n",
    "    activity['location_name_next'] = activity.location_name.shift(-1)\n",
    "    activity['path'] = activity.location_name +'_'+activity.location_name_next\n",
    "    \n",
    "    # initialize\n",
    "    column = ['bathroom','bedroom','kitchen','lounge','hallway']\n",
    "    index = ['bathroom','bedroom','kitchen','lounge','hallway']\n",
    "    nums = np.zeros((len(index),len(column)))\n",
    "    transition_matrix = pd.DataFrame(data=nums, index=index, columns=column)\n",
    "    \n",
    "    # calculate total number of times\n",
    "    total_num = pd.DataFrame(activity.location_name.value_counts())\n",
    "    total_num = total_num.reset_index()\n",
    "    total_num.columns = ['beginning','total_num']\n",
    "    total_num['num_plus'] = total_num.total_num-1\n",
    "    total_num['total_num'] =  total_num['total_num'].mask(total_num['beginning']==activity.iloc[-1].location_name, total_num['num_plus'])\n",
    "    total_num.drop(['num_plus'],axis=1, inplace=True)\n",
    "    \n",
    "    # built path name\n",
    "    for m in range(len(transition_matrix.columns)):\n",
    "        for n in range(len(transition_matrix.columns)):\n",
    "            my_location = f\"{transition_matrix.columns[m]}_{transition_matrix.columns[n]}\"\n",
    "            exec(my_location +'=%s' % (transition_matrix.iloc[m,n]))\n",
    "    \n",
    "    # calculate number of times and the rate\n",
    "    path_num = pd.DataFrame(activity.path.value_counts())\n",
    "    path_num = path_num.reset_index()\n",
    "    path_num.columns = ['path','path_num']\n",
    "    path_num.path = path_num.path.values.astype('str')\n",
    "    path_num['beginning'] = path_num['path'].str.extract(r'([A-Za-z]+)[_]',expand=True)\n",
    "    path_num['ending'] = path_num['path'].str.extract(r'[_]([A-Za-z]+)',expand=True)\n",
    "    path_rate = pd.merge(path_num,total_num,on='beginning')\n",
    "    path_rate['path_rate'] = path_rate.path_num / path_rate.total_num\n",
    "    \n",
    "    # fill transfer matrix\n",
    "    for k in range(len(path_rate)):\n",
    "        transition_matrix.loc[path_rate.beginning.iloc[k],path_rate.ending.iloc[k]] = path_rate.path_rate.iloc[k]\n",
    "    \n",
    "    transition_matrix = transition_matrix.fillna(0)\n",
    "    return transition_matrix"
   ]
  },
  {
   "cell_type": "code",
   "execution_count": null,
   "metadata": {},
   "outputs": [],
   "source": [
    "def get_stationary_distribution(my_transition_matrix):\n",
    "    P = np.array(my_transition_matrix)\n",
    "    A=np.append(np.transpose(P)-np.identity(len(P)),[np.ones(len(P))],axis=0)\n",
    "    b=np.transpose(np.append(np.array([np.zeros(len(P))]),1))\n",
    "    stationary_distribution = np.linalg.solve(np.transpose(A).dot(A), np.transpose(A).dot(b))\n",
    "    stationary_distribution = pd.DataFrame(stationary_distribution)\n",
    "    return stationary_distribution"
   ]
  },
  {
   "cell_type": "code",
   "execution_count": null,
   "metadata": {},
   "outputs": [],
   "source": [
    "def get_entropy_week(my_activity_week, my_stationary_distribution):\n",
    "    activity_week = my_activity_week\n",
    "    my_transition_matrix_week = get_transition_matrix(activity_week)\n",
    "\n",
    "    entropy_week = 0\n",
    "    for k in range(len(my_stationary_distribution)):\n",
    "        entropy_week = entropy_week + (-(my_stationary_distribution.iloc[k]*((my_transition_matrix_week.iloc[k]*log2(my_transition_matrix_week.iloc[k])).sum())))\n",
    "    return entropy_week\n",
    "\n"
   ]
  },
  {
   "cell_type": "code",
   "execution_count": null,
   "metadata": {},
   "outputs": [],
   "source": [
    "def get_entropy(my_activity):\n",
    "    my_activity_6_months = my_activity[my_activity['day_date']<(my_activity.day_date.iloc[0]+pd.Timedelta(days=4*4*7))]\n",
    "    my_transition_matrix_6_months = get_transition_matrix(my_activity_6_months)\n",
    "    my_stationary_distribution = get_stationary_distribution(my_transition_matrix_6_months)\n",
    "\n",
    "    my_entropy = my_activity.groupby([my_activity['day_date']]).apply(lambda x: get_entropy_week(x, my_stationary_distribution))\n",
    "\n",
    "    return my_entropy"
   ]
  },
  {
   "cell_type": "code",
   "execution_count": null,
   "metadata": {},
   "outputs": [],
   "source": [
    "activity_legacy = pre_process_legacy(activity_legacy)\n",
    "activity_raw = pre_process_raw(activity_raw)\n",
    "activity_all = pd.concat([activity_raw, activity_legacy], axis=0)\n",
    "activity_all = activity_all.sort_values(['patient_id','start_date'])\n",
    "activity_all = activity_all.reset_index(drop=True)\n",
    "activity_all = select_daytime_night(activity_all,time)\n",
    "activity_all = select_time_step(activity_all,timestep)\n",
    "activity_all.head()"
   ]
  },
  {
   "cell_type": "code",
   "execution_count": null,
   "metadata": {},
   "outputs": [],
   "source": [
    "activity=activity_all.iloc[:]"
   ]
  },
  {
   "cell_type": "code",
   "execution_count": null,
   "metadata": {},
   "outputs": [],
   "source": [
    "activity_mk_entropy = activity.groupby(activity['patient_id']).apply(get_entropy).reset_index()\n",
    "activity_mk_entropy.columns = ['patient_id','start_date','mk_entropy_day']\n",
    "activity_mk_entropy.start_date = activity_mk_entropy.start_date.values.astype('datetime64[D]')\n",
    "activity_mk_entropy['week'] = activity_mk_entropy['start_date'].dt.to_period('W').apply(lambda r: r.start_time)\n",
    "activity_mk_entropy = activity_mk_entropy.drop_duplicates(subset=['patient_id','start_date'],keep='first')\n",
    "activity_mk_entropy = activity_mk_entropy.groupby([activity_mk_entropy['patient_id'], activity_mk_entropy['week']]).filter(lambda x:len(x)>3)\n",
    "activity_mk_entropy.head()"
   ]
  },
  {
   "cell_type": "code",
   "execution_count": null,
   "metadata": {},
   "outputs": [],
   "source": [
    "activity_mk_entropy_week = activity_mk_entropy.groupby([activity_mk_entropy['patient_id'],activity_mk_entropy['week']]).mean().reset_index()\n",
    "activity_mk_entropy_week.columns = ['patient_id','start_date','entropy_week']\n",
    "activity_mk_entropy_week = activity_mk_entropy_week.groupby(['patient_id']).filter(lambda x:len(x)>8)\n",
    "activity_mk_entropy_week.head()"
   ]
  },
  {
   "cell_type": "code",
   "execution_count": null,
   "metadata": {},
   "outputs": [],
   "source": [
    "activity_mk_entropy_week.to_csv('c_activity_daytime_per_week_entropy_mk.csv')"
   ]
  },
  {
   "cell_type": "code",
   "execution_count": null,
   "metadata": {},
   "outputs": [],
   "source": []
  }
 ],
 "metadata": {
  "kernelspec": {
   "display_name": "Python 3.9.12 ('base')",
   "language": "python",
   "name": "python3"
  },
  "language_info": {
   "codemirror_mode": {
    "name": "ipython",
    "version": 3
   },
   "file_extension": ".py",
   "mimetype": "text/x-python",
   "name": "python",
   "nbconvert_exporter": "python",
   "pygments_lexer": "ipython3",
   "version": "3.9.12 (main, Apr  5 2022, 06:56:58) \n[GCC 7.5.0]"
  },
  "vscode": {
   "interpreter": {
    "hash": "63db258f63f9026914af4dc973048ad77a8a8d707001bf6ff07195bd565e7307"
   }
  }
 },
 "nbformat": 4,
 "nbformat_minor": 2
}
