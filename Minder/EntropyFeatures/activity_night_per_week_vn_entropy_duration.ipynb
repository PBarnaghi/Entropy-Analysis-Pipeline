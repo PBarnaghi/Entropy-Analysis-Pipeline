{
 "cells": [
  {
   "cell_type": "code",
   "execution_count": null,
   "metadata": {},
   "outputs": [],
   "source": [
    "import numpy as np\n",
    "import pandas as pd\n",
    "import dcarte\n",
    "import os\n",
    "import math\n",
    "import seaborn as sns\n",
    "import warnings\n",
    "from numpy import log2\n",
    "warnings.filterwarnings('ignore')\n",
    "dcarte.domains()"
   ]
  },
  {
   "cell_type": "code",
   "execution_count": null,
   "metadata": {},
   "outputs": [],
   "source": [
    "time = 1  # daytime:0 (6:00-18:00), night:1 (18:00-6:00)\n",
    "timestep = 3  # per day: 0, per week: 1\n",
    "activity_raw = dcarte.load('Activity','RAW')\n",
    "activity_legacy = dcarte.load('Motion','LEGACY')\n",
    "sleep_raw = dcarte.load('Sleep_Dailies','PROFILE')\n",
    "sleep_raw.to_csv('middle.csv')"
   ]
  },
  {
   "cell_type": "code",
   "execution_count": null,
   "metadata": {},
   "outputs": [],
   "source": [
    "def pre_process_legacy(activity_raw):\n",
    "    \n",
    "    # delete\n",
    "    activity = activity_raw\n",
    "    \n",
    "    # revise location names\n",
    "    activity = activity.copy()\n",
    "    mapping = {\n",
    "    'Hallway':'hallway',\n",
    "    'Kitchen':'kitchen',\n",
    "    'Study':'study',\n",
    "    'Bathroom':'bathroom',\n",
    "    'Lounge':'lounge',\n",
    "    'Bedroom':'bedroom',\n",
    "    'Living Room':'living',\n",
    "    'Front Door':'door',\n",
    "    'D':'d',\n",
    "    'Dining Room':'dining',\n",
    "    }\n",
    "    activity.location_name = activity.location_name.map(mapping)\n",
    "    activity = activity[~activity['location_name'].isin(['study','living','door','d','dining'])]\n",
    "    activity.location_name = activity.location_name.values.astype('str')\n",
    "    activity.patient_id = activity.patient_id.values.astype('str')\n",
    "    \n",
    "    # delete rebundant columns\n",
    "    activity.drop(['index','timezone'],axis=1, inplace=True)\n",
    "    activity = activity[['start_date','patient_id','location_name']]\n",
    "    \n",
    "    return activity"
   ]
  },
  {
   "cell_type": "code",
   "execution_count": null,
   "metadata": {},
   "outputs": [],
   "source": [
    "def pre_process_raw(activity_raw):\n",
    "    \n",
    "    # delete\n",
    "    activity = activity_raw\n",
    "    \n",
    "    # revise location names\n",
    "    activity = activity.copy()\n",
    "    mapping = {\n",
    "    'conservatory':'conservatory',\n",
    "    'WC1':'wc',\n",
    "    'corridor1':'corridor',\n",
    "    'living room':'living',\n",
    "    'study':'study',\n",
    "    'dining room':'dining',\n",
    "    'bathroom1':'bathroom',\n",
    "    'bedroom1':'bedroom',\n",
    "    'hallway':'hallway',\n",
    "    'lounge':'lounge',\n",
    "    'kitchen':'kitchen',\n",
    "    'cellar':'cellar',\n",
    "    'office':'office'\n",
    "    }\n",
    "    activity.location_name = activity.location_name.map(mapping)\n",
    "    activity = activity[~activity['location_name'].isin(['cellar','office','dining','study','living','corridor','wc','conservatory'])]\n",
    "    activity.location_name = activity.location_name.values.astype('str')\n",
    "    activity.patient_id = activity.patient_id.values.astype('str')\n",
    "    \n",
    "    # delete rebundant columns\n",
    "    activity.drop(['home_id','location_id','source'],axis=1, inplace=True)\n",
    "    \n",
    "    return activity"
   ]
  },
  {
   "cell_type": "code",
   "execution_count": null,
   "metadata": {},
   "outputs": [],
   "source": [
    "def pre_processing_in_bed():\n",
    "\n",
    "    sleep_time_in = pd.read_csv('middle.csv', usecols=['patient_id','start_date','Time in bed'])\n",
    "    sleep_time_in.columns = ['patient_id','start_date','time_in_bed']\n",
    "\n",
    "    sleep_time_in.time_in_bed = sleep_time_in.time_in_bed.values.astype('float')\n",
    "    sleep_time_in.time_in_bed = sleep_time_in.time_in_bed * 60 #  minute\n",
    "    # sleep_time_in.time_in_bed = sleep_time_in.time_in_bed.values.astype('int')\n",
    "    # sleep_time_in.time_in_bed = sleep_time_in.time_in_bed + 1 # Let the minimum value be 1, avoiding blank when transfer to 1 dimension.\n",
    "    sleep_time_in.start_date = sleep_time_in.start_date.values.astype('datetime64[D]')\n",
    "    sleep_time_in['week'] = sleep_time_in['start_date'].dt.to_period('W').apply(lambda r: r.start_time)\n",
    "\n",
    "    sleep_time_in['day_rank'] = sleep_time_in.groupby(['week'])['start_date'].rank(method='dense')  # encode days of each week\n",
    "    sleep_time_in.day_rank = sleep_time_in.day_rank.values.astype('int')\n",
    "    sleep_time_in = sleep_time_in.groupby(['patient_id','week']).filter(lambda x:len(x)==7)\n",
    "\n",
    "    return sleep_time_in"
   ]
  },
  {
   "cell_type": "code",
   "execution_count": null,
   "metadata": {},
   "outputs": [],
   "source": [
    "def pre_processing_out_bed():\n",
    "\n",
    "    sleep_time_out = pd.read_csv('middle.csv', usecols=['patient_id','start_date','Time out of bed'])\n",
    "    sleep_time_out.columns = ['patient_id','start_date','time_out_bed']\n",
    "\n",
    "    sleep_time_out.sleep_time_out = sleep_time_out.time_out_bed.values.astype('float')\n",
    "    sleep_time_out.sleep_time_out = sleep_time_out.time_out_bed * 60 #  minute\n",
    "    # sleep_time_out.time_out_bed = sleep_time_out.time_out_bed.values.astype('int')\n",
    "    # sleep_time_out.time_out_bed = sleep_time_out.time_out_bed + 1 # Let the minimum value be 1, avoiding blank when transfer to 1 dimension.\n",
    "    sleep_time_out.start_date = sleep_time_out.start_date.values.astype('datetime64[D]')\n",
    "    sleep_time_out['week'] = sleep_time_out['start_date'].dt.to_period('W').apply(lambda r: r.start_time)\n",
    "\n",
    "    sleep_time_out['day_rank'] = sleep_time_out.groupby(['week'])['start_date'].rank(method='dense')  # encode days of each week\n",
    "    sleep_time_out.day_rank = sleep_time_out.day_rank.values.astype('int')\n",
    "    sleep_time_out = sleep_time_out.groupby(['patient_id','week']).filter(lambda x:len(x)==7)\n",
    "\n",
    "    return sleep_time_out"
   ]
  },
  {
   "cell_type": "code",
   "execution_count": null,
   "metadata": {},
   "outputs": [],
   "source": [
    "def select_daytime_night(my_activity,my_time):\n",
    "    \n",
    "    # daytime:0 (6:00-18:00), night:1 (18:00-6:00)\n",
    "    signal = my_time\n",
    "    \n",
    "    if signal==0:\n",
    "        print(\"Time: daytime\")\n",
    "        activity_day = my_activity\n",
    "        activity_day['hour'] = activity_day.start_date.dt.hour\n",
    "        # choose daytime, between [6:00-18:00]\n",
    "        activity_day = activity_day[activity_day['hour'].between(6,17)]\n",
    "        activity_day = activity_day.copy()\n",
    "        activity_day.drop(['hour'],axis=1, inplace=True)\n",
    "        activity_day['day_date'] =  activity_day.start_date.values.astype(\"datetime64[D]\")\n",
    "        activity_select = activity_day\n",
    "        \n",
    "    elif signal==1:\n",
    "        print(\"Time: night\")\n",
    "        activity_night = my_activity\n",
    "        activity_night['hour'] = activity_night.start_date.dt.hour\n",
    "        # choose night time, except [6:00-18:00]. e.g., the night time on 22/3 includes 18:00-24:00 on 22/3 and 00:00-06:00 on 23/3\n",
    "        activity_night = activity_night[~activity_night['hour'].between(6,17)]\n",
    "        activity_night = activity_night.copy()\n",
    "        activity_night['day_date'] = activity_night.start_date.values.astype(\"datetime64[D]\")\n",
    "        activity_night['last_date'] = activity_night['start_date'] + pd.Timedelta(days=-1)\n",
    "        activity_night['day_date'] =  activity_night['day_date'].mask(activity_night['hour']<6, activity_night['last_date'])\n",
    "        activity_night['day_date'] = activity_night.day_date.values.astype(\"datetime64[D]\")\n",
    "        activity_night.drop(['hour','last_date'],axis=1, inplace=True)\n",
    "        activity_select = activity_night\n",
    "        \n",
    "    else:\n",
    "        raise ValueError(\"Error: please input correct number! daytime:0 (6:00-18:00), night:1 (18:00-6:00)\")\n",
    "        \n",
    "    return activity_select"
   ]
  },
  {
   "cell_type": "code",
   "execution_count": null,
   "metadata": {},
   "outputs": [],
   "source": [
    "def select_time_step(my_activity, my_timestep):\n",
    "    \n",
    "    activity = pd.DataFrame(my_activity)\n",
    "    # per day: 0, per week: 1, per hour: 2, accurate time: 3\n",
    "    signal = my_timestep\n",
    "    \n",
    "    if signal==0:\n",
    "        print(\"Timestep: per day\")\n",
    "        activity.day_date = activity.day_date.values.astype(\"datetime64[D]\")\n",
    "        activity = activity.groupby(['patient_id','day_date']).filter(lambda x:len(x)>2)\n",
    "        \n",
    "    elif signal==1:\n",
    "        print(\"Timestep: per week\")\n",
    "        activity['week'] = activity['day_date'].dt.to_period('W').apply(lambda r: r.start_time)\n",
    "        activity.drop(['day_date','start_date'],axis=1, inplace=True)\n",
    "        activity.columns=['patient_id','location_name','start_date']\n",
    "        activity = activity.groupby(['patient_id','start_date']).filter(lambda x:len(x)>2)\n",
    "        \n",
    "    elif signal==2:\n",
    "        print(\"Timestep: per hour\")\n",
    "        activity.start_date = activity.start_date.values.astype(\"datetime64[h]\")\n",
    "    \n",
    "    elif signal==3:\n",
    "        print(\"Accurate time\")\n",
    "        activity.start_date = activity.start_date.values.astype(\"datetime64[ns]\")\n",
    "        \n",
    "    else:\n",
    "        raise ValueError(\"Error: please input correct number! per day: 0, per week: 1\")\n",
    "    \n",
    "    return activity"
   ]
  },
  {
   "cell_type": "code",
   "execution_count": null,
   "metadata": {},
   "outputs": [],
   "source": [
    "def get_von_nuemann_entropy(my_data):\n",
    "\n",
    "    # get density matrix\n",
    "    activity_patient = pd.DataFrame(my_data,columns=my_data.columns[2:])\n",
    "    activity_patient = activity_patient.fillna(0)\n",
    "    activity_patient = np.array(activity_patient)\n",
    "    activity_patient_pearson_matrix = (np.matrix(np.corrcoef(activity_patient, rowvar=True)))\n",
    "    activity_density_matrix = np.matrix(activity_patient_pearson_matrix/len(activity_patient_pearson_matrix))\n",
    "    \n",
    "    # get von nuemann entropy \n",
    "    B = activity_density_matrix\n",
    "    I = np.eye(len(B))\n",
    "    M = (B-I) - ((B-I)**2)/2 + ((B-I)**3)/3 - ((B-I)**4)/4 + ((B-I)**5)/5 - ((B-I)**6)/6\n",
    "    R = B*M\n",
    "    S = -np.matrix.trace(R)\n",
    "\n",
    "    return (S.reshape(-1))[0,0]"
   ]
  },
  {
   "cell_type": "code",
   "execution_count": null,
   "metadata": {},
   "outputs": [],
   "source": [
    "activity_legacy = pre_process_legacy(activity_legacy)\n",
    "activity_raw = pre_process_raw(activity_raw)\n",
    "activity = pd.concat([activity_raw, activity_legacy], axis=0)\n",
    "activity = activity.sort_values(['patient_id','start_date'])\n",
    "activity = activity.reset_index(drop=True)\n",
    "activity = select_daytime_night(activity,time)\n",
    "activity = select_time_step(activity,timestep)\n",
    "activity['day_date'] = activity.day_date.values.astype('datetime64[D]')\n",
    "activity.head()"
   ]
  },
  {
   "cell_type": "code",
   "execution_count": null,
   "metadata": {},
   "outputs": [],
   "source": [
    "activity_t = activity.iloc[:]\n",
    "activity_t.head()"
   ]
  },
  {
   "cell_type": "code",
   "execution_count": null,
   "metadata": {},
   "outputs": [],
   "source": [
    "sleep_time_in = pre_processing_in_bed()\n",
    "sleep_time_out = pre_processing_out_bed()\n",
    "sleep_time_in.columns = ['patient_id','day_date','time_in_bed','week','day_rank']\n",
    "sleep_time_out.columns = ['patient_id','day_date','time_out_bed','week','day_rank']\n",
    "sleep_time_in.time_in_bed = sleep_time_in.time_in_bed * 60 * 60\n",
    "sleep_time_out.time_out_bed = sleep_time_out.time_out_bed * 60 * 60\n",
    "\n",
    "\n",
    "sleep_all = pd.merge(sleep_time_in,sleep_time_out, on=['day_date','patient_id'])\n",
    "sleep_all_col = ['patient_id','day_date','time_in_bed','time_out_bed']\n",
    "sleep_all = pd.DataFrame(sleep_all, columns=sleep_all_col)\n",
    "sleep_all.columns=['patient_id','day_date', 'time_in_bed','time_out_bed']\n",
    "sleep_all"
   ]
  },
  {
   "cell_type": "code",
   "execution_count": null,
   "metadata": {},
   "outputs": [],
   "source": [
    "activity_t = activity.iloc[:]\n",
    "activity_t"
   ]
  },
  {
   "cell_type": "code",
   "execution_count": null,
   "metadata": {},
   "outputs": [],
   "source": [
    "activity_t['week'] = activity_t['day_date'].dt.to_period('W').apply(lambda r: r.start_time)\n",
    "\n",
    "activity_t = activity_t.sort_values(['patient_id','start_date'])\n",
    "activity_t = activity_t.reset_index(drop=True)\n",
    "activity_t['week_rank'] = activity_t.groupby('patient_id')['week'].rank(method='dense')\n",
    "\n",
    "# Calculate stay time\n",
    "activity_t['location_name_next'] = activity_t.location_name.shift(-1)\n",
    "activity_t['path'] = activity_t.location_name +'_'+activity_t.location_name_next\n",
    "activity_t['day_date']= activity_t.start_date.values.astype('datetime64[D]')\n",
    "activity_t = activity_t.reset_index(drop=True)\n",
    "activity_t = activity_t.reset_index()\n",
    "activity_t"
   ]
  },
  {
   "cell_type": "code",
   "execution_count": null,
   "metadata": {},
   "outputs": [],
   "source": [
    "activity_stay_time = activity_t.groupby([activity_t['patient_id'],activity_t['day_date']]).apply(lambda x: x.start_date.diff(periods=1).dt.seconds).reset_index()\n",
    "activity_stay_time.head()"
   ]
  },
  {
   "cell_type": "code",
   "execution_count": null,
   "metadata": {},
   "outputs": [],
   "source": [
    "activity_stay_time.columns=['patient_id','day_date','index','stay_time']\n",
    "activity_stay_time.stay_time = activity_stay_time.stay_time.values.astype('float')\n",
    "activity_stay_time.head()"
   ]
  },
  {
   "cell_type": "code",
   "execution_count": null,
   "metadata": {},
   "outputs": [],
   "source": [
    "activity_n = pd.merge(activity_stay_time,activity_t,on='index')\n",
    "activity_n = pd.DataFrame(activity_n, columns=['patient_id_x','day_date_y','stay_time', 'path'])\n",
    "activity_n.columns = ['patient_id','day_date','stay_time','path']\n",
    "activity_n"
   ]
  },
  {
   "cell_type": "code",
   "execution_count": null,
   "metadata": {},
   "outputs": [],
   "source": [
    "# Calculate the total stay time on each day\n",
    "activity_day = activity_n.groupby([activity_n['patient_id'],activity_n['day_date'], activity_n['path']]).sum().reset_index()\n",
    "\n",
    "# Optimise the format\n",
    "activity_day = activity_day.set_index([ 'patient_id','day_date', 'path'])['stay_time']\n",
    "activity_day = activity_day.unstack()\n",
    "activity_day = activity_day.sort_values(['patient_id', 'day_date']).reset_index()\n",
    "activity_day.day_date = activity_day.day_date.values.astype('datetime64[D]')\n",
    "activity_day['week'] = activity_day['day_date'].dt.to_period('W').apply(lambda r: r.start_time)\n",
    "activity_day = activity_day.groupby([activity_day['patient_id'],activity_day['week']]).filter(lambda x:len(x)>2)\n",
    "\n",
    "activity_day['week_rank'] = activity_day.groupby('patient_id')['week'].rank(method='dense')\n",
    "activity_day = activity_day.fillna(0)\n",
    "activity_day.head()"
   ]
  },
  {
   "cell_type": "code",
   "execution_count": null,
   "metadata": {},
   "outputs": [],
   "source": [
    "activity_all = pd.merge(activity_day,sleep_all, on=['day_date','patient_id'])\n",
    "activity_all['day_date'] = activity_all['week']\n",
    "activity_all.drop(['week','week_rank'],axis=1, inplace=True)\n",
    "activity_all.rename(columns = {'day_date':'week'},inplace=True)\n",
    "activity_all.head()"
   ]
  },
  {
   "cell_type": "code",
   "execution_count": null,
   "metadata": {},
   "outputs": [],
   "source": [
    "activity_all = activity_all.groupby(['patient_id','week']).filter(lambda x:len(x)>3)\n",
    "activity_all.head()"
   ]
  },
  {
   "cell_type": "code",
   "execution_count": null,
   "metadata": {},
   "outputs": [],
   "source": [
    "activity_all_s = activity_all.iloc[:]\n",
    "activity_vn = activity_all_s.groupby(['patient_id','week']).apply(get_von_nuemann_entropy)\n",
    "activity_vn"
   ]
  },
  {
   "cell_type": "code",
   "execution_count": null,
   "metadata": {},
   "outputs": [],
   "source": [
    "activity_vn.to_csv('middle.csv')\n",
    "activity_vn = pd.read_csv('middle.csv')\n",
    "activity_vn.columns = ['patient_id','week','activity_vn']\n",
    "activity_vn.head()"
   ]
  },
  {
   "cell_type": "code",
   "execution_count": null,
   "metadata": {},
   "outputs": [],
   "source": [
    "activity_vn = activity_vn.groupby(['patient_id']).filter(lambda x:len(x)>8)"
   ]
  },
  {
   "cell_type": "code",
   "execution_count": null,
   "metadata": {},
   "outputs": [],
   "source": [
    "activity_vn.to_csv('c_activity_night_per_week_entropy_vn_mk_duration.csv')"
   ]
  },
  {
   "cell_type": "code",
   "execution_count": null,
   "metadata": {},
   "outputs": [],
   "source": []
  }
 ],
 "metadata": {
  "kernelspec": {
   "display_name": "Python 3.9.12 ('base')",
   "language": "python",
   "name": "python3"
  },
  "language_info": {
   "codemirror_mode": {
    "name": "ipython",
    "version": 3
   },
   "file_extension": ".py",
   "mimetype": "text/x-python",
   "name": "python",
   "nbconvert_exporter": "python",
   "pygments_lexer": "ipython3",
   "version": "3.9.12"
  },
  "orig_nbformat": 4,
  "vscode": {
   "interpreter": {
    "hash": "63db258f63f9026914af4dc973048ad77a8a8d707001bf6ff07195bd565e7307"
   }
  }
 },
 "nbformat": 4,
 "nbformat_minor": 2
}
