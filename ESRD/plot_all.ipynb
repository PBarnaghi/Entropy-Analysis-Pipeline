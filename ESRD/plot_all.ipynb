{
 "cells": [
  {
   "cell_type": "code",
   "execution_count": 1,
   "metadata": {},
   "outputs": [],
   "source": [
    "import pandas as pd\n",
    "import numpy as np\n",
    "import seaborn as sns\n",
    "import matplotlib.pyplot as plt"
   ]
  },
  {
   "cell_type": "code",
   "execution_count": 2,
   "metadata": {},
   "outputs": [],
   "source": [
    "result_baseline_lstm = pd.read_csv('evaluation_baseline_LSTM.csv',usecols=['test_recall','test_f1','test_acc'])\n",
    "result_baseline_cnn = pd.read_csv('evaluation_baseline_CNN.csv',usecols=['test_recall','test_f1','test_acc'])\n",
    "result_entropy_mlp = pd.read_csv('evaluation_entropy_MLP.csv',usecols=['test_recall','test_f1','test_acc'])"
   ]
  },
  {
   "cell_type": "code",
   "execution_count": 5,
   "metadata": {},
   "outputs": [
    {
     "name": "stdout",
     "output_type": "stream",
     "text": [
      "baseline_lstm test_recall    0.960114\n",
      "test_f1        0.952149\n",
      "test_acc       0.944565\n",
      "dtype: float64\n",
      "baseline_cnn test_recall    0.772650\n",
      "test_f1        0.809099\n",
      "test_acc       0.849348\n",
      "dtype: float64\n",
      "entropy_mlp test_recall    0.975059\n",
      "test_f1        0.978003\n",
      "test_acc       0.981041\n",
      "dtype: float64\n",
      "baseline_lstm test_recall    0.014690\n",
      "test_f1        0.006598\n",
      "test_acc       0.011092\n",
      "dtype: float64\n",
      "baseline_cnn test_recall    0.019884\n",
      "test_f1        0.015376\n",
      "test_acc       0.013769\n",
      "dtype: float64\n",
      "entropy_mlp test_recall    0.008146\n",
      "test_f1        0.004538\n",
      "test_acc       0.007183\n",
      "dtype: float64\n"
     ]
    }
   ],
   "source": [
    "result_baseline_lstm['test_f1'] = 2 * (result_baseline_lstm['test_recall'] * result_baseline_lstm['test_acc']) / (result_baseline_lstm['test_recall'] + result_baseline_lstm['test_acc'])\n",
    "result_baseline_cnn['test_f1'] = 2 * (result_baseline_cnn['test_recall'] * result_baseline_cnn['test_acc']) / (result_baseline_cnn['test_recall'] + result_baseline_cnn['test_acc'])\n",
    "result_entropy_mlp['test_f1'] = 2 * (result_entropy_mlp['test_recall'] * result_entropy_mlp['test_acc']) / (result_entropy_mlp['test_recall'] + result_entropy_mlp['test_acc'])\n",
    "\n",
    "print('baseline_lstm',result_baseline_lstm.mean())\n",
    "print('baseline_cnn',result_baseline_cnn.mean())\n",
    "print('entropy_mlp',result_entropy_mlp.mean())\n",
    "\n",
    "print('baseline_lstm',result_baseline_lstm.std())\n",
    "print('baseline_cnn',result_baseline_cnn.std())\n",
    "print('entropy_mlp',result_entropy_mlp.std())"
   ]
  },
  {
   "cell_type": "code",
   "execution_count": 4,
   "metadata": {},
   "outputs": [
    {
     "name": "stdout",
     "output_type": "stream",
     "text": [
      "baseline_lstm test_recall    0.960114\n",
      "test_f1        0.952149\n",
      "test_acc       0.944565\n",
      "dtype: float64\n",
      "baseline_cnn test_recall    0.772650\n",
      "test_f1        0.809099\n",
      "test_acc       0.849348\n",
      "dtype: float64\n",
      "entropy_mlp test_recall    0.975059\n",
      "test_f1        0.978003\n",
      "test_acc       0.981041\n",
      "dtype: float64\n"
     ]
    }
   ],
   "source": [
    "print('baseline_lstm',result_baseline_lstm.mean())\n",
    "print('baseline_cnn',result_baseline_cnn.mean())\n",
    "print('entropy_mlp',result_entropy_mlp.mean())"
   ]
  },
  {
   "cell_type": "code",
   "execution_count": null,
   "metadata": {},
   "outputs": [],
   "source": [
    "# result_baseline_mlp precessing\n",
    "result_baseline_lstm_recall = pd.DataFrame(result_baseline_lstm['test_recall']).reset_index(drop=True)\n",
    "result_baseline_lstm_recall.columns = ['value']\n",
    "result_baseline_lstm_recall['evaluation'] = 'Recall rate'\n",
    "\n",
    "result_baseline_lstm_f1 = pd.DataFrame(result_baseline_lstm['test_f1']).reset_index(drop=True)\n",
    "result_baseline_lstm_f1.columns = ['value']\n",
    "result_baseline_lstm_f1['evaluation'] = 'F1 score'\n",
    "\n",
    "result_baseline_lstm_acc = pd.DataFrame(result_baseline_lstm['test_acc']).reset_index(drop=True)\n",
    "result_baseline_lstm_acc.columns = ['value']\n",
    "result_baseline_lstm_acc['evaluation'] = 'Accuracy'\n",
    "\n",
    "\n",
    "result_baseline_lstm_all = pd.concat([result_baseline_lstm_recall,result_baseline_lstm_f1,result_baseline_lstm_acc],axis=0)\n",
    "result_baseline_lstm_all['Group'] = 'Baseline-LSTM'\n",
    "\n",
    "# result_baseline_cnn processing\n",
    "result_baseline_cnn_recall = pd.DataFrame(result_baseline_cnn['test_recall']).reset_index(drop=True)\n",
    "result_baseline_cnn_recall.columns = ['value']\n",
    "result_baseline_cnn_recall['evaluation'] = 'Recall rate'\n",
    "\n",
    "result_baseline_cnn_f1 = pd.DataFrame(result_baseline_cnn['test_f1']).reset_index(drop=True)\n",
    "result_baseline_cnn_f1.columns = ['value']\n",
    "result_baseline_cnn_f1['evaluation'] = 'F1 score'\n",
    "\n",
    "result_baseline_cnn_acc = pd.DataFrame(result_baseline_cnn['test_acc']).reset_index(drop=True)\n",
    "result_baseline_cnn_acc.columns = ['value']\n",
    "result_baseline_cnn_acc['evaluation'] = 'Accuracy'\n",
    "\n",
    "result_baseline_cnn_all = pd.concat([result_baseline_cnn_recall,result_baseline_cnn_f1,result_baseline_cnn_acc],axis=0)\n",
    "result_baseline_cnn_all['Group'] = 'Baseline-CNN'\n",
    "\n",
    "# result_baseline_cnn processing\n",
    "result_entropy_mlp_recall = pd.DataFrame(result_entropy_mlp['test_recall']).reset_index(drop=True)\n",
    "result_entropy_mlp_recall.columns = ['value']\n",
    "result_entropy_mlp_recall['evaluation'] = 'Recall rate'\n",
    "\n",
    "result_entropy_mlp_f1 = pd.DataFrame(result_entropy_mlp['test_f1']).reset_index(drop=True)\n",
    "result_entropy_mlp_f1.columns = ['value']\n",
    "result_entropy_mlp_f1['evaluation'] = 'F1 score'\n",
    "\n",
    "result_entropy_mlp_acc = pd.DataFrame(result_entropy_mlp['test_acc']).reset_index(drop=True)\n",
    "result_entropy_mlp_acc.columns = ['value']\n",
    "result_entropy_mlp_acc['evaluation'] = 'Accuracy'\n",
    "\n",
    "result_entropy_mlp_all = pd.concat([result_entropy_mlp_recall,result_entropy_mlp_f1,result_entropy_mlp_acc],axis=0)\n",
    "result_entropy_mlp_all['Group'] = 'Entropy-MLP'\n",
    "\n",
    "result_all = pd.concat([result_baseline_cnn_all,result_baseline_lstm_all,result_entropy_mlp_all],axis=0)\n",
    "\n",
    "my_colors = [\"#82B0D2\", \"#8ECFC9\",\"#FA7F6F\"]\n",
    "  \n",
    "# add color array to set_palette\n",
    "# function of seaborn\n",
    "sns.set_palette( my_colors )\n",
    "  \n",
    "# make boxplot\n",
    "\n",
    "# plt.figure(figsize=(8,5))\n",
    "plt.figure(figsize=(5,4))\n",
    "myfig = plt.gcf()\n",
    "ax = sns.boxplot(x=\"evaluation\", y=\"value\", hue=\"Group\",data=result_all)\n",
    "plt.ylim(0.68,1)\n",
    "plt.ylabel('Value')\n",
    "plt.xlabel('Evaluation')\n",
    "plt.rcParams.update({'font.size': 12})\n",
    "# ax.legend_.remove()\n",
    "# myfig.savefig('plot_result_all.png', bbox_inches=\"tight\", dpi=700)"
   ]
  },
  {
   "cell_type": "code",
   "execution_count": null,
   "metadata": {},
   "outputs": [],
   "source": [
    "print(result_entropy_mlp.mean())\n",
    "print(result_entropy_mlp.std())"
   ]
  },
  {
   "cell_type": "code",
   "execution_count": null,
   "metadata": {},
   "outputs": [],
   "source": []
  }
 ],
 "metadata": {
  "kernelspec": {
   "display_name": "con_env",
   "language": "python",
   "name": "python3"
  },
  "language_info": {
   "codemirror_mode": {
    "name": "ipython",
    "version": 3
   },
   "file_extension": ".py",
   "mimetype": "text/x-python",
   "name": "python",
   "nbconvert_exporter": "python",
   "pygments_lexer": "ipython3",
   "version": "3.8.13"
  },
  "orig_nbformat": 4,
  "vscode": {
   "interpreter": {
    "hash": "a44e8caa665b3aa76b6be033e8eb42da3660a9b7093cc3223a4df9b5d5eaa1e9"
   }
  }
 },
 "nbformat": 4,
 "nbformat_minor": 2
}
