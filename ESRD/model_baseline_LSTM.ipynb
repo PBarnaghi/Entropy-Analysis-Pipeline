{
 "cells": [
  {
   "cell_type": "code",
   "execution_count": 22,
   "metadata": {},
   "outputs": [],
   "source": [
    "from tensorflow.keras.preprocessing import sequence\n",
    "from sklearn.datasets import fetch_20newsgroups\n",
    "from tensorflow.keras.preprocessing.text import Tokenizer\n",
    "from tensorflow.keras.models import Sequential\n",
    "from tensorflow.keras.layers import Dense, Embedding, Conv1D, MaxPool1D, Dropout, SimpleRNN, LSTM, Input\n",
    "from tensorflow.keras.layers import Flatten\n",
    "from tensorflow.keras.preprocessing import sequence\n",
    "from imblearn.under_sampling import RandomUnderSampler\n",
    "import numpy as np\n",
    "import pandas as pd\n",
    "import string\n",
    "from sklearn.model_selection import train_test_split\n",
    "from sklearn.metrics import f1_score, accuracy_score, recall_score, confusion_matrix"
   ]
  },
  {
   "attachments": {},
   "cell_type": "markdown",
   "metadata": {},
   "source": [
    "1. Pre-process the raw data"
   ]
  },
  {
   "cell_type": "code",
   "execution_count": 23,
   "metadata": {},
   "outputs": [
    {
     "name": "stderr",
     "output_type": "stream",
     "text": [
      "/var/folders/pg/1pf8c0d10hs7bc4233k0d06h0000gp/T/ipykernel_63634/1474613655.py:3: FutureWarning: In a future version of pandas all arguments of DataFrame.drop except for the argument 'labels' will be keyword-only.\n",
      "  df = df.drop('Unnamed', 1)\n",
      "/var/folders/pg/1pf8c0d10hs7bc4233k0d06h0000gp/T/ipykernel_63634/1474613655.py:10: FutureWarning: In a future version of pandas all arguments of DataFrame.drop except for the argument 'labels' will be keyword-only.\n",
      "  x_df = df.drop('y', 1)\n"
     ]
    }
   ],
   "source": [
    "df = pd.read_csv('Epileptic Seizure Recognition.csv')\n",
    "print(df.head().T)\n",
    "df = df.drop('Unnamed', 1)\n",
    "y_df = df['y']\n",
    "print(y_df.head().T)\n",
    "print(y_df.value_counts())\n",
    "y_binary = pd.Series(np.where(df['y'].values == 1, 1, 0), df['y'].index)\n",
    "print(y_binary.head().T)\n",
    "print(y_binary.value_counts())\n",
    "x_df = df.drop('y', 1)"
   ]
  },
  {
   "attachments": {},
   "cell_type": "markdown",
   "metadata": {},
   "source": [
    "2. Training."
   ]
  },
  {
   "cell_type": "code",
   "execution_count": 24,
   "metadata": {},
   "outputs": [
    {
     "name": "stdout",
     "output_type": "stream",
     "text": [
      "Model: \"sequential_5\"\n",
      "_________________________________________________________________\n",
      " Layer (type)                Output Shape              Param #   \n",
      "=================================================================\n",
      " lstm_15 (LSTM)              (None, 178, 64)           16896     \n",
      "                                                                 \n",
      " lstm_16 (LSTM)              (None, 178, 32)           12416     \n",
      "                                                                 \n",
      " lstm_17 (LSTM)              (None, 8)                 1312      \n",
      "                                                                 \n",
      " flatten_5 (Flatten)         (None, 8)                 0         \n",
      "                                                                 \n",
      " dense_10 (Dense)            (None, 250)               2250      \n",
      "                                                                 \n",
      " dense_11 (Dense)            (None, 2)                 502       \n",
      "                                                                 \n",
      "=================================================================\n",
      "Total params: 33,376\n",
      "Trainable params: 33,376\n",
      "Non-trainable params: 0\n",
      "_________________________________________________________________\n",
      "None\n",
      "Epoch 1/30\n"
     ]
    },
    {
     "name": "stderr",
     "output_type": "stream",
     "text": [
      "2023-02-06 22:22:06.896432: I tensorflow/core/grappler/optimizers/custom_graph_optimizer_registry.cc:114] Plugin optimizer for device_type GPU is enabled.\n",
      "2023-02-06 22:22:07.275758: I tensorflow/core/grappler/optimizers/custom_graph_optimizer_registry.cc:114] Plugin optimizer for device_type GPU is enabled.\n",
      "2023-02-06 22:22:07.571785: I tensorflow/core/grappler/optimizers/custom_graph_optimizer_registry.cc:114] Plugin optimizer for device_type GPU is enabled.\n",
      "2023-02-06 22:22:07.879252: I tensorflow/core/grappler/optimizers/custom_graph_optimizer_registry.cc:114] Plugin optimizer for device_type GPU is enabled.\n",
      "2023-02-06 22:22:08.442773: I tensorflow/core/grappler/optimizers/custom_graph_optimizer_registry.cc:114] Plugin optimizer for device_type GPU is enabled.\n",
      "2023-02-06 22:22:08.988642: I tensorflow/core/grappler/optimizers/custom_graph_optimizer_registry.cc:114] Plugin optimizer for device_type GPU is enabled.\n",
      "2023-02-06 22:22:09.453957: I tensorflow/core/grappler/optimizers/custom_graph_optimizer_registry.cc:114] Plugin optimizer for device_type GPU is enabled.\n",
      "2023-02-06 22:22:14.035311: I tensorflow/core/grappler/optimizers/custom_graph_optimizer_registry.cc:114] Plugin optimizer for device_type GPU is enabled.\n",
      "2023-02-06 22:22:14.168165: I tensorflow/core/grappler/optimizers/custom_graph_optimizer_registry.cc:114] Plugin optimizer for device_type GPU is enabled.\n",
      "2023-02-06 22:22:14.434299: I tensorflow/core/grappler/optimizers/custom_graph_optimizer_registry.cc:114] Plugin optimizer for device_type GPU is enabled.\n",
      "2023-02-06 22:22:14.777479: I tensorflow/core/grappler/optimizers/custom_graph_optimizer_registry.cc:114] Plugin optimizer for device_type GPU is enabled.\n"
     ]
    },
    {
     "name": "stdout",
     "output_type": "stream",
     "text": [
      "15/15 - 10s - loss: 0.6588 - accuracy: 0.7427 - val_loss: 0.5824 - val_accuracy: 0.8391 - 10s/epoch - 683ms/step\n",
      "Epoch 2/30\n",
      "15/15 - 3s - loss: 0.4925 - accuracy: 0.8614 - val_loss: 0.3559 - val_accuracy: 0.8826 - 3s/epoch - 169ms/step\n",
      "Epoch 3/30\n",
      "15/15 - 3s - loss: 0.3404 - accuracy: 0.8791 - val_loss: 0.2750 - val_accuracy: 0.9011 - 3s/epoch - 168ms/step\n",
      "Epoch 4/30\n",
      "15/15 - 2s - loss: 0.2854 - accuracy: 0.8940 - val_loss: 0.2596 - val_accuracy: 0.8935 - 2s/epoch - 167ms/step\n",
      "Epoch 5/30\n",
      "15/15 - 3s - loss: 0.2567 - accuracy: 0.9008 - val_loss: 0.2117 - val_accuracy: 0.9207 - 3s/epoch - 169ms/step\n",
      "Epoch 6/30\n",
      "15/15 - 3s - loss: 0.2172 - accuracy: 0.9196 - val_loss: 0.1951 - val_accuracy: 0.9272 - 3s/epoch - 169ms/step\n",
      "Epoch 7/30\n",
      "15/15 - 2s - loss: 0.2089 - accuracy: 0.9245 - val_loss: 0.1620 - val_accuracy: 0.9478 - 2s/epoch - 166ms/step\n",
      "Epoch 8/30\n",
      "15/15 - 3s - loss: 0.1812 - accuracy: 0.9372 - val_loss: 0.1463 - val_accuracy: 0.9424 - 3s/epoch - 169ms/step\n",
      "Epoch 9/30\n",
      "15/15 - 3s - loss: 0.1576 - accuracy: 0.9440 - val_loss: 0.1224 - val_accuracy: 0.9554 - 3s/epoch - 171ms/step\n",
      "Epoch 10/30\n",
      "15/15 - 3s - loss: 0.1512 - accuracy: 0.9459 - val_loss: 0.1232 - val_accuracy: 0.9511 - 3s/epoch - 175ms/step\n",
      "Epoch 11/30\n",
      "15/15 - 3s - loss: 0.1376 - accuracy: 0.9538 - val_loss: 0.1074 - val_accuracy: 0.9641 - 3s/epoch - 169ms/step\n",
      "Epoch 12/30\n",
      "15/15 - 3s - loss: 0.1264 - accuracy: 0.9543 - val_loss: 0.0935 - val_accuracy: 0.9663 - 3s/epoch - 170ms/step\n",
      "Epoch 13/30\n",
      "15/15 - 2s - loss: 0.1227 - accuracy: 0.9606 - val_loss: 0.1372 - val_accuracy: 0.9522 - 2s/epoch - 157ms/step\n",
      "Epoch 14/30\n",
      "15/15 - 2s - loss: 0.1279 - accuracy: 0.9533 - val_loss: 0.1093 - val_accuracy: 0.9609 - 2s/epoch - 155ms/step\n",
      "Epoch 15/30\n",
      "15/15 - 2s - loss: 0.1076 - accuracy: 0.9620 - val_loss: 0.0884 - val_accuracy: 0.9685 - 2s/epoch - 166ms/step\n",
      "Epoch 16/30\n",
      "15/15 - 3s - loss: 0.1001 - accuracy: 0.9682 - val_loss: 0.0848 - val_accuracy: 0.9728 - 3s/epoch - 170ms/step\n",
      "Epoch 17/30\n",
      "15/15 - 3s - loss: 0.0988 - accuracy: 0.9671 - val_loss: 0.0955 - val_accuracy: 0.9630 - 3s/epoch - 167ms/step\n",
      "Epoch 18/30\n",
      "15/15 - 3s - loss: 0.0976 - accuracy: 0.9649 - val_loss: 0.0965 - val_accuracy: 0.9620 - 3s/epoch - 169ms/step\n",
      "Epoch 19/30\n",
      "15/15 - 3s - loss: 0.1005 - accuracy: 0.9660 - val_loss: 0.0932 - val_accuracy: 0.9652 - 3s/epoch - 171ms/step\n",
      "Epoch 20/30\n",
      "15/15 - 3s - loss: 0.0881 - accuracy: 0.9726 - val_loss: 0.0701 - val_accuracy: 0.9761 - 3s/epoch - 167ms/step\n",
      "Epoch 21/30\n",
      "15/15 - 2s - loss: 0.0859 - accuracy: 0.9731 - val_loss: 0.0849 - val_accuracy: 0.9674 - 2s/epoch - 165ms/step\n",
      "Epoch 22/30\n",
      "15/15 - 3s - loss: 0.0827 - accuracy: 0.9726 - val_loss: 0.0888 - val_accuracy: 0.9674 - 3s/epoch - 173ms/step\n",
      "Epoch 23/30\n",
      "15/15 - 3s - loss: 0.0965 - accuracy: 0.9633 - val_loss: 0.0772 - val_accuracy: 0.9717 - 3s/epoch - 190ms/step\n",
      "Epoch 24/30\n",
      "15/15 - 3s - loss: 0.0936 - accuracy: 0.9688 - val_loss: 0.1729 - val_accuracy: 0.9326 - 3s/epoch - 178ms/step\n",
      "Epoch 25/30\n",
      "15/15 - 2s - loss: 0.0864 - accuracy: 0.9715 - val_loss: 0.0756 - val_accuracy: 0.9728 - 2s/epoch - 166ms/step\n",
      "Epoch 26/30\n",
      "15/15 - 2s - loss: 0.0851 - accuracy: 0.9707 - val_loss: 0.0827 - val_accuracy: 0.9717 - 2s/epoch - 160ms/step\n",
      "Epoch 27/30\n",
      "15/15 - 2s - loss: 0.0693 - accuracy: 0.9783 - val_loss: 0.0768 - val_accuracy: 0.9717 - 2s/epoch - 152ms/step\n",
      "Epoch 28/30\n",
      "15/15 - 2s - loss: 0.0752 - accuracy: 0.9761 - val_loss: 0.0751 - val_accuracy: 0.9728 - 2s/epoch - 154ms/step\n",
      "Epoch 29/30\n",
      "15/15 - 2s - loss: 0.0723 - accuracy: 0.9769 - val_loss: 0.0770 - val_accuracy: 0.9739 - 2s/epoch - 152ms/step\n",
      "Epoch 30/30\n",
      "15/15 - 2s - loss: 0.0825 - accuracy: 0.9758 - val_loss: 0.1495 - val_accuracy: 0.9533 - 2s/epoch - 161ms/step\n"
     ]
    },
    {
     "name": "stderr",
     "output_type": "stream",
     "text": [
      "2023-02-06 22:23:28.860200: I tensorflow/core/grappler/optimizers/custom_graph_optimizer_registry.cc:114] Plugin optimizer for device_type GPU is enabled.\n",
      "2023-02-06 22:23:28.983234: I tensorflow/core/grappler/optimizers/custom_graph_optimizer_registry.cc:114] Plugin optimizer for device_type GPU is enabled.\n",
      "2023-02-06 22:23:29.234612: I tensorflow/core/grappler/optimizers/custom_graph_optimizer_registry.cc:114] Plugin optimizer for device_type GPU is enabled.\n",
      "2023-02-06 22:23:29.486152: I tensorflow/core/grappler/optimizers/custom_graph_optimizer_registry.cc:114] Plugin optimizer for device_type GPU is enabled.\n"
     ]
    },
    {
     "name": "stdout",
     "output_type": "stream",
     "text": [
      "29/29 [==============================] - 4s 93ms/step\n"
     ]
    }
   ],
   "source": [
    "test_recall = []\n",
    "test_f1= []\n",
    "test_acc = []\n",
    "\n",
    "\n",
    "for i in range(30):\n",
    "    under_sampler = RandomUnderSampler(random_state=1)\n",
    "    X_res, y_res = under_sampler.fit_resample(x_df, y_binary)\n",
    "    y_res.value_counts()\n",
    "\n",
    "    X = []\n",
    "\n",
    "    for i, row in X_res.iterrows():\n",
    "        tmp_x = []\n",
    "        for e in row.tolist():\n",
    "            tmp_x.append([e])\n",
    "        X.append(tmp_x)\n",
    "        \n",
    "    X = np.array(X)\n",
    "\n",
    "    X_train, X_test, y_train, y_test = train_test_split(X, y_res, test_size=0.2, random_state=1234)\n",
    "\n",
    "    model = Sequential()\n",
    "    model.add(Input(shape=(178,1)))\n",
    "    model.add(LSTM(64,return_sequences=True))\n",
    "    model.add(LSTM(32,return_sequences=True))\n",
    "    model.add(LSTM(8))\n",
    "    model.add(Flatten())\n",
    "    model.add(Dense(250, activation='relu'))\n",
    "    model.add(Dense(2, activation='softmax'))\n",
    "    model.compile(loss='sparse_categorical_crossentropy', optimizer='adam', metrics=['accuracy'])\n",
    "\n",
    "    print(model.summary())\n",
    "    history = model.fit(X_train, y_train, validation_data=(X_test,y_test), epochs=2000, batch_size=256, verbose=2)\n",
    "\n",
    "    y_pred1 = model.predict(X_test)\n",
    "    y_pred = np.argmax(y_pred1, axis=1)\n",
    "\n",
    "    # Print f1, precision, and recall scores\n",
    "    test_acc.append((accuracy_score(y_test, y_pred)))\n",
    "    test_recall.append((recall_score(y_test, y_pred)))\n",
    "    test_f1.append((f1_score(y_test, y_pred)))"
   ]
  },
  {
   "cell_type": "code",
   "execution_count": 25,
   "metadata": {},
   "outputs": [],
   "source": [
    "test_recall = pd.DataFrame(test_recall, columns=['test_recall'])\n",
    "test_f1 = pd.DataFrame(test_f1, columns=['test_f1'])\n",
    "test_acc = pd.DataFrame(test_acc, columns=['test_acc'])\n",
    "\n",
    "evaluation_result = pd.concat([test_recall, test_f1, test_acc],axis=1)\n",
    "evaluation_result.to_csv('evaluation_baseline_LSTM.csv')"
   ]
  },
  {
   "cell_type": "code",
   "execution_count": 26,
   "metadata": {},
   "outputs": [],
   "source": [
    "# import matplotlib.pyplot as plt\n",
    "# plt.plot(history.history['loss'])\n",
    "# plt.plot(history.history['val_loss'])\n",
    "# plt.title('model loss')\n",
    "# plt.ylabel('loss')\n",
    "# plt.xlabel('epoch')\n",
    "# plt.legend(['train', 'val'], loc='upper left')\n",
    "# plt.show()"
   ]
  }
 ],
 "metadata": {
  "kernelspec": {
   "display_name": "sandbox_tf",
   "language": "python",
   "name": "python3"
  },
  "language_info": {
   "codemirror_mode": {
    "name": "ipython",
    "version": 3
   },
   "file_extension": ".py",
   "mimetype": "text/x-python",
   "name": "python",
   "nbconvert_exporter": "python",
   "pygments_lexer": "ipython3",
   "version": "3.10.6"
  },
  "orig_nbformat": 4,
  "vscode": {
   "interpreter": {
    "hash": "42db6f1feb5be9d95545c2a7b7395325c381e86fa288f14274020ac1bf67e557"
   }
  }
 },
 "nbformat": 4,
 "nbformat_minor": 2
}
