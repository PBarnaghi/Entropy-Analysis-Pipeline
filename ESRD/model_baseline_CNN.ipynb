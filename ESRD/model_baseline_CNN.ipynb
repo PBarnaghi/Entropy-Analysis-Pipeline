{
 "cells": [
  {
   "cell_type": "code",
   "execution_count": 39,
   "metadata": {},
   "outputs": [],
   "source": [
    "from tensorflow.keras.preprocessing import sequence\n",
    "from sklearn.datasets import fetch_20newsgroups\n",
    "from tensorflow.keras.preprocessing.text import Tokenizer\n",
    "from tensorflow.keras.models import Sequential\n",
    "from tensorflow.keras.layers import Dense, Embedding, Conv1D, MaxPool1D, Dropout, SimpleRNN, LSTM, Input\n",
    "from tensorflow.keras.layers import Flatten\n",
    "from tensorflow.keras.preprocessing import sequence\n",
    "import numpy as np\n",
    "import pandas as pd\n",
    "import string\n",
    "from sklearn.model_selection import train_test_split\n",
    "from sklearn.metrics import f1_score, accuracy_score, recall_score, confusion_matrix\n",
    "from imblearn.under_sampling import RandomUnderSampler"
   ]
  },
  {
   "cell_type": "code",
   "execution_count": 40,
   "metadata": {},
   "outputs": [],
   "source": [
    "df = pd.read_csv('Epileptic Seizure Recognition.csv')"
   ]
  },
  {
   "attachments": {},
   "cell_type": "markdown",
   "metadata": {},
   "source": [
    "1. Pre-process the raw data."
   ]
  },
  {
   "cell_type": "code",
   "execution_count": 41,
   "metadata": {},
   "outputs": [
    {
     "data": {
      "text/html": [
       "<div>\n",
       "<style scoped>\n",
       "    .dataframe tbody tr th:only-of-type {\n",
       "        vertical-align: middle;\n",
       "    }\n",
       "\n",
       "    .dataframe tbody tr th {\n",
       "        vertical-align: top;\n",
       "    }\n",
       "\n",
       "    .dataframe thead th {\n",
       "        text-align: right;\n",
       "    }\n",
       "</style>\n",
       "<table border=\"1\" class=\"dataframe\">\n",
       "  <thead>\n",
       "    <tr style=\"text-align: right;\">\n",
       "      <th></th>\n",
       "      <th>0</th>\n",
       "      <th>1</th>\n",
       "      <th>2</th>\n",
       "      <th>3</th>\n",
       "      <th>4</th>\n",
       "    </tr>\n",
       "  </thead>\n",
       "  <tbody>\n",
       "    <tr>\n",
       "      <th>Unnamed</th>\n",
       "      <td>X21.V1.791</td>\n",
       "      <td>X15.V1.924</td>\n",
       "      <td>X8.V1.1</td>\n",
       "      <td>X16.V1.60</td>\n",
       "      <td>X20.V1.54</td>\n",
       "    </tr>\n",
       "    <tr>\n",
       "      <th>X1</th>\n",
       "      <td>135</td>\n",
       "      <td>386</td>\n",
       "      <td>-32</td>\n",
       "      <td>-105</td>\n",
       "      <td>-9</td>\n",
       "    </tr>\n",
       "    <tr>\n",
       "      <th>X2</th>\n",
       "      <td>190</td>\n",
       "      <td>382</td>\n",
       "      <td>-39</td>\n",
       "      <td>-101</td>\n",
       "      <td>-65</td>\n",
       "    </tr>\n",
       "    <tr>\n",
       "      <th>X3</th>\n",
       "      <td>229</td>\n",
       "      <td>356</td>\n",
       "      <td>-47</td>\n",
       "      <td>-96</td>\n",
       "      <td>-98</td>\n",
       "    </tr>\n",
       "    <tr>\n",
       "      <th>X4</th>\n",
       "      <td>223</td>\n",
       "      <td>331</td>\n",
       "      <td>-37</td>\n",
       "      <td>-92</td>\n",
       "      <td>-102</td>\n",
       "    </tr>\n",
       "    <tr>\n",
       "      <th>...</th>\n",
       "      <td>...</td>\n",
       "      <td>...</td>\n",
       "      <td>...</td>\n",
       "      <td>...</td>\n",
       "      <td>...</td>\n",
       "    </tr>\n",
       "    <tr>\n",
       "      <th>X175</th>\n",
       "      <td>-127</td>\n",
       "      <td>156</td>\n",
       "      <td>-30</td>\n",
       "      <td>-77</td>\n",
       "      <td>-65</td>\n",
       "    </tr>\n",
       "    <tr>\n",
       "      <th>X176</th>\n",
       "      <td>-116</td>\n",
       "      <td>154</td>\n",
       "      <td>-35</td>\n",
       "      <td>-72</td>\n",
       "      <td>-83</td>\n",
       "    </tr>\n",
       "    <tr>\n",
       "      <th>X177</th>\n",
       "      <td>-83</td>\n",
       "      <td>143</td>\n",
       "      <td>-35</td>\n",
       "      <td>-69</td>\n",
       "      <td>-89</td>\n",
       "    </tr>\n",
       "    <tr>\n",
       "      <th>X178</th>\n",
       "      <td>-51</td>\n",
       "      <td>129</td>\n",
       "      <td>-36</td>\n",
       "      <td>-65</td>\n",
       "      <td>-73</td>\n",
       "    </tr>\n",
       "    <tr>\n",
       "      <th>y</th>\n",
       "      <td>4</td>\n",
       "      <td>1</td>\n",
       "      <td>5</td>\n",
       "      <td>5</td>\n",
       "      <td>5</td>\n",
       "    </tr>\n",
       "  </tbody>\n",
       "</table>\n",
       "<p>180 rows × 5 columns</p>\n",
       "</div>"
      ],
      "text/plain": [
       "                  0           1        2          3          4\n",
       "Unnamed  X21.V1.791  X15.V1.924  X8.V1.1  X16.V1.60  X20.V1.54\n",
       "X1              135         386      -32       -105         -9\n",
       "X2              190         382      -39       -101        -65\n",
       "X3              229         356      -47        -96        -98\n",
       "X4              223         331      -37        -92       -102\n",
       "...             ...         ...      ...        ...        ...\n",
       "X175           -127         156      -30        -77        -65\n",
       "X176           -116         154      -35        -72        -83\n",
       "X177            -83         143      -35        -69        -89\n",
       "X178            -51         129      -36        -65        -73\n",
       "y                 4           1        5          5          5\n",
       "\n",
       "[180 rows x 5 columns]"
      ]
     },
     "execution_count": 41,
     "metadata": {},
     "output_type": "execute_result"
    }
   ],
   "source": [
    "df = pd.read_csv('Epileptic Seizure Recognition.csv')\n",
    "print(df.head().T)\n",
    "df = df.drop('Unnamed', 1)\n",
    "y_df = df['y']\n",
    "print(y_df.head().T)\n",
    "print(y_df.value_counts())"
   ]
  },
  {
   "cell_type": "code",
   "execution_count": 46,
   "metadata": {},
   "outputs": [],
   "source": [
    "y_binary = pd.Series(np.where(df['y'].values == 1, 1, 0), df['y'].index)\n",
    "print(y_binary.head().T)\n",
    "print(y_binary.value_counts())"
   ]
  },
  {
   "cell_type": "code",
   "execution_count": 49,
   "metadata": {},
   "outputs": [
    {
     "name": "stderr",
     "output_type": "stream",
     "text": [
      "/var/folders/pg/1pf8c0d10hs7bc4233k0d06h0000gp/T/ipykernel_58147/76009137.py:1: FutureWarning: In a future version of pandas all arguments of DataFrame.drop except for the argument 'labels' will be keyword-only.\n",
      "  x_df = df.drop('y', 1)\n"
     ]
    }
   ],
   "source": [
    "x_df = df.drop('y', 1)"
   ]
  },
  {
   "attachments": {},
   "cell_type": "markdown",
   "metadata": {},
   "source": [
    "2. Training."
   ]
  },
  {
   "cell_type": "code",
   "execution_count": 50,
   "metadata": {},
   "outputs": [
    {
     "name": "stdout",
     "output_type": "stream",
     "text": [
      "Model: \"sequential_3\"\n",
      "_________________________________________________________________\n",
      " Layer (type)                Output Shape              Param #   \n",
      "=================================================================\n",
      " max_pooling1d_6 (MaxPooling  (None, 89, 1)            0         \n",
      " 1D)                                                             \n",
      "                                                                 \n",
      " conv1d_6 (Conv1D)           (None, 89, 16)            64        \n",
      "                                                                 \n",
      " max_pooling1d_7 (MaxPooling  (None, 44, 16)           0         \n",
      " 1D)                                                             \n",
      "                                                                 \n",
      " conv1d_7 (Conv1D)           (None, 44, 8)             392       \n",
      "                                                                 \n",
      " flatten_3 (Flatten)         (None, 352)               0         \n",
      "                                                                 \n",
      " dense_6 (Dense)             (None, 250)               88250     \n",
      "                                                                 \n",
      " dense_7 (Dense)             (None, 2)                 502       \n",
      "                                                                 \n",
      "=================================================================\n",
      "Total params: 89,208\n",
      "Trainable params: 89,208\n",
      "Non-trainable params: 0\n",
      "_________________________________________________________________\n",
      "None\n",
      "Epoch 1/30\n"
     ]
    },
    {
     "name": "stderr",
     "output_type": "stream",
     "text": [
      "2023-02-06 22:17:49.266612: I tensorflow/core/grappler/optimizers/custom_graph_optimizer_registry.cc:114] Plugin optimizer for device_type GPU is enabled.\n"
     ]
    },
    {
     "name": "stdout",
     "output_type": "stream",
     "text": [
      "29/29 - 1s - loss: 6.3107 - accuracy: 0.5677 - val_loss: 2.5066 - val_accuracy: 0.6152 - 794ms/epoch - 27ms/step\n",
      "Epoch 2/30\n"
     ]
    },
    {
     "name": "stderr",
     "output_type": "stream",
     "text": [
      "2023-02-06 22:17:49.789509: I tensorflow/core/grappler/optimizers/custom_graph_optimizer_registry.cc:114] Plugin optimizer for device_type GPU is enabled.\n"
     ]
    },
    {
     "name": "stdout",
     "output_type": "stream",
     "text": [
      "29/29 - 0s - loss: 1.6637 - accuracy: 0.6959 - val_loss: 1.4436 - val_accuracy: 0.7152 - 294ms/epoch - 10ms/step\n",
      "Epoch 3/30\n",
      "29/29 - 0s - loss: 0.8917 - accuracy: 0.7685 - val_loss: 1.1689 - val_accuracy: 0.7435 - 243ms/epoch - 8ms/step\n",
      "Epoch 4/30\n",
      "29/29 - 0s - loss: 0.5630 - accuracy: 0.8196 - val_loss: 1.0344 - val_accuracy: 0.7652 - 257ms/epoch - 9ms/step\n",
      "Epoch 5/30\n",
      "29/29 - 0s - loss: 0.4217 - accuracy: 0.8533 - val_loss: 0.9864 - val_accuracy: 0.7630 - 239ms/epoch - 8ms/step\n",
      "Epoch 6/30\n",
      "29/29 - 0s - loss: 0.3181 - accuracy: 0.8799 - val_loss: 1.0311 - val_accuracy: 0.7924 - 239ms/epoch - 8ms/step\n",
      "Epoch 7/30\n",
      "29/29 - 0s - loss: 0.2407 - accuracy: 0.9098 - val_loss: 1.1155 - val_accuracy: 0.8087 - 239ms/epoch - 8ms/step\n",
      "Epoch 8/30\n",
      "29/29 - 0s - loss: 0.1868 - accuracy: 0.9307 - val_loss: 0.8337 - val_accuracy: 0.8239 - 235ms/epoch - 8ms/step\n",
      "Epoch 9/30\n",
      "29/29 - 0s - loss: 0.1219 - accuracy: 0.9560 - val_loss: 0.9166 - val_accuracy: 0.8402 - 237ms/epoch - 8ms/step\n",
      "Epoch 10/30\n",
      "29/29 - 0s - loss: 0.0872 - accuracy: 0.9731 - val_loss: 0.9055 - val_accuracy: 0.8359 - 246ms/epoch - 8ms/step\n",
      "Epoch 11/30\n",
      "29/29 - 0s - loss: 0.0735 - accuracy: 0.9769 - val_loss: 0.6080 - val_accuracy: 0.8446 - 238ms/epoch - 8ms/step\n",
      "Epoch 12/30\n",
      "29/29 - 0s - loss: 0.0626 - accuracy: 0.9804 - val_loss: 1.0028 - val_accuracy: 0.8478 - 278ms/epoch - 10ms/step\n",
      "Epoch 13/30\n",
      "29/29 - 0s - loss: 0.0446 - accuracy: 0.9889 - val_loss: 0.8949 - val_accuracy: 0.8522 - 243ms/epoch - 8ms/step\n",
      "Epoch 14/30\n",
      "29/29 - 0s - loss: 0.0392 - accuracy: 0.9929 - val_loss: 0.7650 - val_accuracy: 0.8674 - 239ms/epoch - 8ms/step\n",
      "Epoch 15/30\n",
      "29/29 - 0s - loss: 0.0291 - accuracy: 0.9970 - val_loss: 0.9926 - val_accuracy: 0.8696 - 240ms/epoch - 8ms/step\n",
      "Epoch 16/30\n",
      "29/29 - 0s - loss: 0.0383 - accuracy: 0.9927 - val_loss: 0.8205 - val_accuracy: 0.8750 - 237ms/epoch - 8ms/step\n",
      "Epoch 17/30\n",
      "29/29 - 0s - loss: 0.0279 - accuracy: 0.9962 - val_loss: 1.0646 - val_accuracy: 0.8641 - 236ms/epoch - 8ms/step\n",
      "Epoch 18/30\n",
      "29/29 - 0s - loss: 0.0187 - accuracy: 0.9992 - val_loss: 0.9996 - val_accuracy: 0.8750 - 236ms/epoch - 8ms/step\n",
      "Epoch 19/30\n",
      "29/29 - 0s - loss: 0.0130 - accuracy: 1.0000 - val_loss: 1.0106 - val_accuracy: 0.8728 - 236ms/epoch - 8ms/step\n",
      "Epoch 20/30\n",
      "29/29 - 0s - loss: 0.0111 - accuracy: 1.0000 - val_loss: 1.1185 - val_accuracy: 0.8674 - 270ms/epoch - 9ms/step\n",
      "Epoch 21/30\n",
      "29/29 - 0s - loss: 0.0097 - accuracy: 1.0000 - val_loss: 0.9996 - val_accuracy: 0.8772 - 256ms/epoch - 9ms/step\n",
      "Epoch 22/30\n",
      "29/29 - 0s - loss: 0.0082 - accuracy: 1.0000 - val_loss: 1.0910 - val_accuracy: 0.8750 - 238ms/epoch - 8ms/step\n",
      "Epoch 23/30\n",
      "29/29 - 0s - loss: 0.0074 - accuracy: 1.0000 - val_loss: 1.1761 - val_accuracy: 0.8696 - 250ms/epoch - 9ms/step\n",
      "Epoch 24/30\n",
      "29/29 - 0s - loss: 0.0067 - accuracy: 1.0000 - val_loss: 1.0723 - val_accuracy: 0.8783 - 240ms/epoch - 8ms/step\n",
      "Epoch 25/30\n",
      "29/29 - 0s - loss: 0.0060 - accuracy: 1.0000 - val_loss: 1.2025 - val_accuracy: 0.8707 - 244ms/epoch - 8ms/step\n",
      "Epoch 26/30\n",
      "29/29 - 0s - loss: 0.0055 - accuracy: 1.0000 - val_loss: 1.1285 - val_accuracy: 0.8761 - 248ms/epoch - 9ms/step\n",
      "Epoch 27/30\n",
      "29/29 - 0s - loss: 0.0051 - accuracy: 1.0000 - val_loss: 1.1376 - val_accuracy: 0.8750 - 242ms/epoch - 8ms/step\n",
      "Epoch 28/30\n",
      "29/29 - 0s - loss: 0.0047 - accuracy: 1.0000 - val_loss: 1.1526 - val_accuracy: 0.8761 - 298ms/epoch - 10ms/step\n",
      "Epoch 29/30\n",
      "29/29 - 0s - loss: 0.0043 - accuracy: 1.0000 - val_loss: 1.2035 - val_accuracy: 0.8739 - 237ms/epoch - 8ms/step\n",
      "Epoch 30/30\n",
      "29/29 - 0s - loss: 0.0040 - accuracy: 1.0000 - val_loss: 1.1383 - val_accuracy: 0.8750 - 240ms/epoch - 8ms/step\n",
      "29/29 [==============================] - 0s 3ms/step\n"
     ]
    },
    {
     "name": "stderr",
     "output_type": "stream",
     "text": [
      "2023-02-06 22:17:57.204031: I tensorflow/core/grappler/optimizers/custom_graph_optimizer_registry.cc:114] Plugin optimizer for device_type GPU is enabled.\n"
     ]
    }
   ],
   "source": [
    "test_recall = []\n",
    "test_f1= []\n",
    "test_acc = []\n",
    "\n",
    "\n",
    "for i in range(30):\n",
    "\n",
    "    under_sampler = RandomUnderSampler(random_state=1)\n",
    "    X_res, y_res = under_sampler.fit_resample(x_df, y_binary)\n",
    "\n",
    "    X = []\n",
    "\n",
    "    for i, row in X_res.iterrows():\n",
    "        tmp_x = []\n",
    "        for e in row.tolist():\n",
    "            tmp_x.append([e])\n",
    "        X.append(tmp_x)\n",
    "        \n",
    "    X = np.array(X)\n",
    "\n",
    "    model = Sequential()\n",
    "    model.add(Input(shape=(178, 1)))\n",
    "    model.add(MaxPool1D(pool_size=2))\n",
    "    model.add(Conv1D(16, 3, input_shape=(50, 20000), strides=1, padding='causal', activation='relu'))\n",
    "    model.add(MaxPool1D(pool_size=2))\n",
    "    model.add(Conv1D(8, 3, input_shape=(25, 20000), strides=1, padding='causal', activation='relu'))\n",
    "    model.add(Flatten())\n",
    "    model.add(Dense(250, activation='relu'))\n",
    "    model.add(Dense(2, activation='softmax'))\n",
    "    model.compile(loss='sparse_categorical_crossentropy', optimizer='adam', metrics=['accuracy'])\n",
    "\n",
    "    print(model.summary())\n",
    "\n",
    "    X_train, X_test, y_train, y_test = train_test_split(X, y_res, test_size=0.2, random_state=1234)\n",
    "    history = model.fit(X_train, y_train, validation_data=(X_test,y_test), epochs=2000, batch_size=256, verbose=2)\n",
    "\n",
    "    y_pred1 = model.predict(X_test)\n",
    "    y_pred = np.argmax(y_pred1, axis=1)\n",
    "\n",
    "    # Print f1, precision, and recall scores\n",
    "    test_acc.append((accuracy_score(y_test, y_pred)))\n",
    "    test_recall.append((recall_score(y_test, y_pred)))\n",
    "    test_f1.append((f1_score(y_test, y_pred)))"
   ]
  },
  {
   "cell_type": "code",
   "execution_count": 54,
   "metadata": {},
   "outputs": [],
   "source": [
    "test_recall = pd.DataFrame(test_recall, columns=['test_recall'])\n",
    "test_f1 = pd.DataFrame(test_f1, columns=['test_f1'])\n",
    "test_acc = pd.DataFrame(test_acc, columns=['test_acc'])\n",
    "\n",
    "evaluation_result = pd.concat([test_recall, test_f1, test_acc],axis=1)\n",
    "evaluation_result.to_csv('evaluation_baseline_CNN.csv')"
   ]
  },
  {
   "cell_type": "code",
   "execution_count": null,
   "metadata": {},
   "outputs": [],
   "source": [
    "# import matplotlib.pyplot as plt\n",
    "# plt.plot(history.history['loss'])\n",
    "# plt.plot(history.history['val_loss'])\n",
    "# plt.title('model loss')\n",
    "# plt.ylabel('loss')\n",
    "# plt.xlabel('epoch')\n",
    "# plt.legend(['train', 'val'], loc='upper left')\n",
    "# plt.show()"
   ]
  },
  {
   "cell_type": "code",
   "execution_count": null,
   "metadata": {},
   "outputs": [],
   "source": []
  }
 ],
 "metadata": {
  "kernelspec": {
   "display_name": "sandbox_tf",
   "language": "python",
   "name": "python3"
  },
  "language_info": {
   "codemirror_mode": {
    "name": "ipython",
    "version": 3
   },
   "file_extension": ".py",
   "mimetype": "text/x-python",
   "name": "python",
   "nbconvert_exporter": "python",
   "pygments_lexer": "ipython3",
   "version": "3.10.6"
  },
  "orig_nbformat": 4,
  "vscode": {
   "interpreter": {
    "hash": "42db6f1feb5be9d95545c2a7b7395325c381e86fa288f14274020ac1bf67e557"
   }
  }
 },
 "nbformat": 4,
 "nbformat_minor": 2
}
